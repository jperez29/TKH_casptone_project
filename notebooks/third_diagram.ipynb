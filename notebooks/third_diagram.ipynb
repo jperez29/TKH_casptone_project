{
 "cells": [
  {
   "cell_type": "code",
   "execution_count": 2,
   "metadata": {},
   "outputs": [],
   "source": [
    "import pandas as pd\n",
    "import numpy as np \n",
    "import matplotlib.pyplot as plt\n",
    "import requests\n",
    "import json"
   ]
  },
  {
   "cell_type": "code",
   "execution_count": 3,
   "metadata": {},
   "outputs": [],
   "source": [
    "#Totals Folder: by_boro\n",
    "totals_boro = pd.read_csv(\"https://raw.githubusercontent.com/nychealth/coronavirus-data/master/totals/by-boro.csv\")"
   ]
  },
  {
   "cell_type": "code",
   "execution_count": 4,
   "metadata": {},
   "outputs": [
    {
     "data": {
      "text/html": [
       "<div>\n",
       "<style scoped>\n",
       "    .dataframe tbody tr th:only-of-type {\n",
       "        vertical-align: middle;\n",
       "    }\n",
       "\n",
       "    .dataframe tbody tr th {\n",
       "        vertical-align: top;\n",
       "    }\n",
       "\n",
       "    .dataframe thead th {\n",
       "        text-align: right;\n",
       "    }\n",
       "</style>\n",
       "<table border=\"1\" class=\"dataframe\">\n",
       "  <thead>\n",
       "    <tr style=\"text-align: right;\">\n",
       "      <th></th>\n",
       "      <th>BOROUGH_GROUP</th>\n",
       "      <th>CASE_RATE</th>\n",
       "      <th>HOSPITALIZED_RATE</th>\n",
       "      <th>DEATH_RATE</th>\n",
       "      <th>CASE_COUNT</th>\n",
       "      <th>HOSPITALIZED_COUNT</th>\n",
       "      <th>DEATH_COUNT</th>\n",
       "    </tr>\n",
       "  </thead>\n",
       "  <tbody>\n",
       "    <tr>\n",
       "      <th>0</th>\n",
       "      <td>Bronx</td>\n",
       "      <td>10617.35</td>\n",
       "      <td>1612.11</td>\n",
       "      <td>392.68</td>\n",
       "      <td>150576</td>\n",
       "      <td>22863</td>\n",
       "      <td>5569</td>\n",
       "    </tr>\n",
       "    <tr>\n",
       "      <th>1</th>\n",
       "      <td>Brooklyn</td>\n",
       "      <td>9007.69</td>\n",
       "      <td>1243.05</td>\n",
       "      <td>334.23</td>\n",
       "      <td>230588</td>\n",
       "      <td>31821</td>\n",
       "      <td>8556</td>\n",
       "    </tr>\n",
       "    <tr>\n",
       "      <th>2</th>\n",
       "      <td>Manhattan</td>\n",
       "      <td>6657.19</td>\n",
       "      <td>931.97</td>\n",
       "      <td>230.43</td>\n",
       "      <td>108426</td>\n",
       "      <td>15179</td>\n",
       "      <td>3753</td>\n",
       "    </tr>\n",
       "    <tr>\n",
       "      <th>3</th>\n",
       "      <td>Queens</td>\n",
       "      <td>10134.09</td>\n",
       "      <td>1429.46</td>\n",
       "      <td>379.17</td>\n",
       "      <td>228408</td>\n",
       "      <td>32218</td>\n",
       "      <td>8546</td>\n",
       "    </tr>\n",
       "    <tr>\n",
       "      <th>4</th>\n",
       "      <td>StatenIsland</td>\n",
       "      <td>13049.86</td>\n",
       "      <td>1243.11</td>\n",
       "      <td>337.29</td>\n",
       "      <td>62136</td>\n",
       "      <td>5919</td>\n",
       "      <td>1606</td>\n",
       "    </tr>\n",
       "    <tr>\n",
       "      <th>5</th>\n",
       "      <td>Citywide</td>\n",
       "      <td>9358.25</td>\n",
       "      <td>1295.47</td>\n",
       "      <td>336.22</td>\n",
       "      <td>780180</td>\n",
       "      <td>108001</td>\n",
       "      <td>28030</td>\n",
       "    </tr>\n",
       "  </tbody>\n",
       "</table>\n",
       "</div>"
      ],
      "text/plain": [
       "  BOROUGH_GROUP  CASE_RATE  HOSPITALIZED_RATE  DEATH_RATE  CASE_COUNT  \\\n",
       "0         Bronx   10617.35            1612.11      392.68      150576   \n",
       "1      Brooklyn    9007.69            1243.05      334.23      230588   \n",
       "2     Manhattan    6657.19             931.97      230.43      108426   \n",
       "3        Queens   10134.09            1429.46      379.17      228408   \n",
       "4  StatenIsland   13049.86            1243.11      337.29       62136   \n",
       "5      Citywide    9358.25            1295.47      336.22      780180   \n",
       "\n",
       "   HOSPITALIZED_COUNT  DEATH_COUNT  \n",
       "0               22863         5569  \n",
       "1               31821         8556  \n",
       "2               15179         3753  \n",
       "3               32218         8546  \n",
       "4                5919         1606  \n",
       "5              108001        28030  "
      ]
     },
     "execution_count": 4,
     "metadata": {},
     "output_type": "execute_result"
    }
   ],
   "source": [
    "totals_boro"
   ]
  },
  {
   "cell_type": "markdown",
   "metadata": {},
   "source": [
    "### Data Exploration"
   ]
  },
  {
   "cell_type": "code",
   "execution_count": 5,
   "metadata": {},
   "outputs": [
    {
     "data": {
      "text/html": [
       "<div>\n",
       "<style scoped>\n",
       "    .dataframe tbody tr th:only-of-type {\n",
       "        vertical-align: middle;\n",
       "    }\n",
       "\n",
       "    .dataframe tbody tr th {\n",
       "        vertical-align: top;\n",
       "    }\n",
       "\n",
       "    .dataframe thead th {\n",
       "        text-align: right;\n",
       "    }\n",
       "</style>\n",
       "<table border=\"1\" class=\"dataframe\">\n",
       "  <thead>\n",
       "    <tr style=\"text-align: right;\">\n",
       "      <th></th>\n",
       "      <th>borough</th>\n",
       "      <th>_2020</th>\n",
       "    </tr>\n",
       "  </thead>\n",
       "  <tbody>\n",
       "    <tr>\n",
       "      <th>0</th>\n",
       "      <td>NYC Total</td>\n",
       "      <td>8550971</td>\n",
       "    </tr>\n",
       "    <tr>\n",
       "      <th>1</th>\n",
       "      <td>Bronx</td>\n",
       "      <td>1446788</td>\n",
       "    </tr>\n",
       "    <tr>\n",
       "      <th>2</th>\n",
       "      <td>Brooklyn</td>\n",
       "      <td>2648452</td>\n",
       "    </tr>\n",
       "    <tr>\n",
       "      <th>3</th>\n",
       "      <td>Manhattan</td>\n",
       "      <td>1638281</td>\n",
       "    </tr>\n",
       "    <tr>\n",
       "      <th>4</th>\n",
       "      <td>Queens</td>\n",
       "      <td>2330295</td>\n",
       "    </tr>\n",
       "    <tr>\n",
       "      <th>5</th>\n",
       "      <td>Staten Island</td>\n",
       "      <td>487155</td>\n",
       "    </tr>\n",
       "  </tbody>\n",
       "</table>\n",
       "</div>"
      ],
      "text/plain": [
       "            borough    _2020\n",
       "0         NYC Total  8550971\n",
       "1             Bronx  1446788\n",
       "2          Brooklyn  2648452\n",
       "3         Manhattan  1638281\n",
       "4            Queens  2330295\n",
       "5     Staten Island   487155"
      ]
     },
     "execution_count": 5,
     "metadata": {},
     "output_type": "execute_result"
    }
   ],
   "source": [
    "r = requests.get(\"https://data.cityofnewyork.us/resource/xywu-7bv9.json?\")\n",
    "population =pd.DataFrame(json.loads(r.text))\n",
    "data = population[[\"borough\", \"_2020\"]].copy()\n",
    "data"
   ]
  },
  {
   "cell_type": "code",
   "execution_count": 6,
   "metadata": {},
   "outputs": [],
   "source": [
    "data.loc[data['borough']=='NYC Total', 'borough']= 'Citywide'"
   ]
  },
  {
   "cell_type": "code",
   "execution_count": 7,
   "metadata": {},
   "outputs": [],
   "source": [
    "data['borough'] = data['borough'].str.strip()"
   ]
  },
  {
   "cell_type": "code",
   "execution_count": 8,
   "metadata": {},
   "outputs": [],
   "source": [
    "data.loc[data['borough'] == \"Staten Island\", 'borough'] = \"StatenIsland\""
   ]
  },
  {
   "cell_type": "code",
   "execution_count": 9,
   "metadata": {},
   "outputs": [
    {
     "data": {
      "text/html": [
       "<div>\n",
       "<style scoped>\n",
       "    .dataframe tbody tr th:only-of-type {\n",
       "        vertical-align: middle;\n",
       "    }\n",
       "\n",
       "    .dataframe tbody tr th {\n",
       "        vertical-align: top;\n",
       "    }\n",
       "\n",
       "    .dataframe thead th {\n",
       "        text-align: right;\n",
       "    }\n",
       "</style>\n",
       "<table border=\"1\" class=\"dataframe\">\n",
       "  <thead>\n",
       "    <tr style=\"text-align: right;\">\n",
       "      <th></th>\n",
       "      <th>borough</th>\n",
       "      <th>_2020</th>\n",
       "    </tr>\n",
       "  </thead>\n",
       "  <tbody>\n",
       "    <tr>\n",
       "      <th>0</th>\n",
       "      <td>Citywide</td>\n",
       "      <td>8550971</td>\n",
       "    </tr>\n",
       "    <tr>\n",
       "      <th>1</th>\n",
       "      <td>Bronx</td>\n",
       "      <td>1446788</td>\n",
       "    </tr>\n",
       "    <tr>\n",
       "      <th>2</th>\n",
       "      <td>Brooklyn</td>\n",
       "      <td>2648452</td>\n",
       "    </tr>\n",
       "    <tr>\n",
       "      <th>3</th>\n",
       "      <td>Manhattan</td>\n",
       "      <td>1638281</td>\n",
       "    </tr>\n",
       "    <tr>\n",
       "      <th>4</th>\n",
       "      <td>Queens</td>\n",
       "      <td>2330295</td>\n",
       "    </tr>\n",
       "    <tr>\n",
       "      <th>5</th>\n",
       "      <td>StatenIsland</td>\n",
       "      <td>487155</td>\n",
       "    </tr>\n",
       "  </tbody>\n",
       "</table>\n",
       "</div>"
      ],
      "text/plain": [
       "        borough    _2020\n",
       "0      Citywide  8550971\n",
       "1         Bronx  1446788\n",
       "2      Brooklyn  2648452\n",
       "3     Manhattan  1638281\n",
       "4        Queens  2330295\n",
       "5  StatenIsland   487155"
      ]
     },
     "execution_count": 9,
     "metadata": {},
     "output_type": "execute_result"
    }
   ],
   "source": [
    "data"
   ]
  },
  {
   "cell_type": "code",
   "execution_count": 10,
   "metadata": {},
   "outputs": [],
   "source": [
    "data[\"_2020\"] = data[\"_2020\"].astype(int)"
   ]
  },
  {
   "cell_type": "code",
   "execution_count": 11,
   "metadata": {},
   "outputs": [
    {
     "data": {
      "text/html": [
       "<div>\n",
       "<style scoped>\n",
       "    .dataframe tbody tr th:only-of-type {\n",
       "        vertical-align: middle;\n",
       "    }\n",
       "\n",
       "    .dataframe tbody tr th {\n",
       "        vertical-align: top;\n",
       "    }\n",
       "\n",
       "    .dataframe thead th {\n",
       "        text-align: right;\n",
       "    }\n",
       "</style>\n",
       "<table border=\"1\" class=\"dataframe\">\n",
       "  <thead>\n",
       "    <tr style=\"text-align: right;\">\n",
       "      <th></th>\n",
       "      <th>borough</th>\n",
       "      <th>_2020</th>\n",
       "    </tr>\n",
       "  </thead>\n",
       "  <tbody>\n",
       "    <tr>\n",
       "      <th>0</th>\n",
       "      <td>Citywide</td>\n",
       "      <td>8550971</td>\n",
       "    </tr>\n",
       "    <tr>\n",
       "      <th>1</th>\n",
       "      <td>Bronx</td>\n",
       "      <td>1446788</td>\n",
       "    </tr>\n",
       "    <tr>\n",
       "      <th>2</th>\n",
       "      <td>Brooklyn</td>\n",
       "      <td>2648452</td>\n",
       "    </tr>\n",
       "    <tr>\n",
       "      <th>3</th>\n",
       "      <td>Manhattan</td>\n",
       "      <td>1638281</td>\n",
       "    </tr>\n",
       "    <tr>\n",
       "      <th>4</th>\n",
       "      <td>Queens</td>\n",
       "      <td>2330295</td>\n",
       "    </tr>\n",
       "    <tr>\n",
       "      <th>5</th>\n",
       "      <td>StatenIsland</td>\n",
       "      <td>487155</td>\n",
       "    </tr>\n",
       "  </tbody>\n",
       "</table>\n",
       "</div>"
      ],
      "text/plain": [
       "        borough    _2020\n",
       "0      Citywide  8550971\n",
       "1         Bronx  1446788\n",
       "2      Brooklyn  2648452\n",
       "3     Manhattan  1638281\n",
       "4        Queens  2330295\n",
       "5  StatenIsland   487155"
      ]
     },
     "execution_count": 11,
     "metadata": {},
     "output_type": "execute_result"
    }
   ],
   "source": [
    "data[[\"borough\",\"_2020\"]]"
   ]
  },
  {
   "cell_type": "code",
   "execution_count": 12,
   "metadata": {},
   "outputs": [],
   "source": [
    "#df.join(other.set_index('key'), on='key')  #join when the two keys are the same"
   ]
  },
  {
   "cell_type": "code",
   "execution_count": 13,
   "metadata": {},
   "outputs": [],
   "source": [
    "totals_boro = totals_boro.set_index('BOROUGH_GROUP').join(data.set_index('borough'))"
   ]
  },
  {
   "cell_type": "code",
   "execution_count": 14,
   "metadata": {},
   "outputs": [
    {
     "data": {
      "text/html": [
       "<div>\n",
       "<style scoped>\n",
       "    .dataframe tbody tr th:only-of-type {\n",
       "        vertical-align: middle;\n",
       "    }\n",
       "\n",
       "    .dataframe tbody tr th {\n",
       "        vertical-align: top;\n",
       "    }\n",
       "\n",
       "    .dataframe thead th {\n",
       "        text-align: right;\n",
       "    }\n",
       "</style>\n",
       "<table border=\"1\" class=\"dataframe\">\n",
       "  <thead>\n",
       "    <tr style=\"text-align: right;\">\n",
       "      <th></th>\n",
       "      <th>CASE_RATE</th>\n",
       "      <th>HOSPITALIZED_RATE</th>\n",
       "      <th>DEATH_RATE</th>\n",
       "      <th>CASE_COUNT</th>\n",
       "      <th>HOSPITALIZED_COUNT</th>\n",
       "      <th>DEATH_COUNT</th>\n",
       "      <th>_2020</th>\n",
       "    </tr>\n",
       "    <tr>\n",
       "      <th>BOROUGH_GROUP</th>\n",
       "      <th></th>\n",
       "      <th></th>\n",
       "      <th></th>\n",
       "      <th></th>\n",
       "      <th></th>\n",
       "      <th></th>\n",
       "      <th></th>\n",
       "    </tr>\n",
       "  </thead>\n",
       "  <tbody>\n",
       "    <tr>\n",
       "      <th>Bronx</th>\n",
       "      <td>10617.35</td>\n",
       "      <td>1612.11</td>\n",
       "      <td>392.68</td>\n",
       "      <td>150576</td>\n",
       "      <td>22863</td>\n",
       "      <td>5569</td>\n",
       "      <td>1446788</td>\n",
       "    </tr>\n",
       "    <tr>\n",
       "      <th>Brooklyn</th>\n",
       "      <td>9007.69</td>\n",
       "      <td>1243.05</td>\n",
       "      <td>334.23</td>\n",
       "      <td>230588</td>\n",
       "      <td>31821</td>\n",
       "      <td>8556</td>\n",
       "      <td>2648452</td>\n",
       "    </tr>\n",
       "    <tr>\n",
       "      <th>Manhattan</th>\n",
       "      <td>6657.19</td>\n",
       "      <td>931.97</td>\n",
       "      <td>230.43</td>\n",
       "      <td>108426</td>\n",
       "      <td>15179</td>\n",
       "      <td>3753</td>\n",
       "      <td>1638281</td>\n",
       "    </tr>\n",
       "    <tr>\n",
       "      <th>Queens</th>\n",
       "      <td>10134.09</td>\n",
       "      <td>1429.46</td>\n",
       "      <td>379.17</td>\n",
       "      <td>228408</td>\n",
       "      <td>32218</td>\n",
       "      <td>8546</td>\n",
       "      <td>2330295</td>\n",
       "    </tr>\n",
       "    <tr>\n",
       "      <th>StatenIsland</th>\n",
       "      <td>13049.86</td>\n",
       "      <td>1243.11</td>\n",
       "      <td>337.29</td>\n",
       "      <td>62136</td>\n",
       "      <td>5919</td>\n",
       "      <td>1606</td>\n",
       "      <td>487155</td>\n",
       "    </tr>\n",
       "    <tr>\n",
       "      <th>Citywide</th>\n",
       "      <td>9358.25</td>\n",
       "      <td>1295.47</td>\n",
       "      <td>336.22</td>\n",
       "      <td>780180</td>\n",
       "      <td>108001</td>\n",
       "      <td>28030</td>\n",
       "      <td>8550971</td>\n",
       "    </tr>\n",
       "  </tbody>\n",
       "</table>\n",
       "</div>"
      ],
      "text/plain": [
       "               CASE_RATE  HOSPITALIZED_RATE  DEATH_RATE  CASE_COUNT  \\\n",
       "BOROUGH_GROUP                                                         \n",
       "Bronx           10617.35            1612.11      392.68      150576   \n",
       "Brooklyn         9007.69            1243.05      334.23      230588   \n",
       "Manhattan        6657.19             931.97      230.43      108426   \n",
       "Queens          10134.09            1429.46      379.17      228408   \n",
       "StatenIsland    13049.86            1243.11      337.29       62136   \n",
       "Citywide         9358.25            1295.47      336.22      780180   \n",
       "\n",
       "               HOSPITALIZED_COUNT  DEATH_COUNT    _2020  \n",
       "BOROUGH_GROUP                                            \n",
       "Bronx                       22863         5569  1446788  \n",
       "Brooklyn                    31821         8556  2648452  \n",
       "Manhattan                   15179         3753  1638281  \n",
       "Queens                      32218         8546  2330295  \n",
       "StatenIsland                 5919         1606   487155  \n",
       "Citywide                   108001        28030  8550971  "
      ]
     },
     "execution_count": 14,
     "metadata": {},
     "output_type": "execute_result"
    }
   ],
   "source": [
    "totals_boro"
   ]
  },
  {
   "cell_type": "code",
   "execution_count": 14,
   "metadata": {},
   "outputs": [],
   "source": [
    "totals_boro.drop(columns = [\"CASE_RATE\",\"HOSPITALIZED_RATE\", \"DEATH_RATE\"], axis=1, inplace=True)"
   ]
  },
  {
   "cell_type": "code",
   "execution_count": 19,
   "metadata": {},
   "outputs": [],
   "source": [
    "totals_boro = totals_boro.rename(columns={\"_2020\": \"POPULATION\"})"
   ]
  },
  {
   "cell_type": "code",
   "execution_count": 20,
   "metadata": {},
   "outputs": [
    {
     "data": {
      "text/html": [
       "<div>\n",
       "<style scoped>\n",
       "    .dataframe tbody tr th:only-of-type {\n",
       "        vertical-align: middle;\n",
       "    }\n",
       "\n",
       "    .dataframe tbody tr th {\n",
       "        vertical-align: top;\n",
       "    }\n",
       "\n",
       "    .dataframe thead th {\n",
       "        text-align: right;\n",
       "    }\n",
       "</style>\n",
       "<table border=\"1\" class=\"dataframe\">\n",
       "  <thead>\n",
       "    <tr style=\"text-align: right;\">\n",
       "      <th></th>\n",
       "      <th>CASE_COUNT</th>\n",
       "      <th>HOSPITALIZED_COUNT</th>\n",
       "      <th>DEATH_COUNT</th>\n",
       "      <th>POPULATION</th>\n",
       "    </tr>\n",
       "    <tr>\n",
       "      <th>BOROUGH_GROUP</th>\n",
       "      <th></th>\n",
       "      <th></th>\n",
       "      <th></th>\n",
       "      <th></th>\n",
       "    </tr>\n",
       "  </thead>\n",
       "  <tbody>\n",
       "    <tr>\n",
       "      <th>Bronx</th>\n",
       "      <td>145250</td>\n",
       "      <td>22117</td>\n",
       "      <td>5424</td>\n",
       "      <td>1446788</td>\n",
       "    </tr>\n",
       "    <tr>\n",
       "      <th>Brooklyn</th>\n",
       "      <td>219634</td>\n",
       "      <td>30428</td>\n",
       "      <td>8201</td>\n",
       "      <td>2648452</td>\n",
       "    </tr>\n",
       "    <tr>\n",
       "      <th>Manhattan</th>\n",
       "      <td>104420</td>\n",
       "      <td>14675</td>\n",
       "      <td>3621</td>\n",
       "      <td>1638281</td>\n",
       "    </tr>\n",
       "    <tr>\n",
       "      <th>Queens</th>\n",
       "      <td>218887</td>\n",
       "      <td>30890</td>\n",
       "      <td>8257</td>\n",
       "      <td>2330295</td>\n",
       "    </tr>\n",
       "    <tr>\n",
       "      <th>StatenIsland</th>\n",
       "      <td>59166</td>\n",
       "      <td>5611</td>\n",
       "      <td>1546</td>\n",
       "      <td>487155</td>\n",
       "    </tr>\n",
       "    <tr>\n",
       "      <th>Citywide</th>\n",
       "      <td>747403</td>\n",
       "      <td>103722</td>\n",
       "      <td>27049</td>\n",
       "      <td>8550971</td>\n",
       "    </tr>\n",
       "  </tbody>\n",
       "</table>\n",
       "</div>"
      ],
      "text/plain": [
       "               CASE_COUNT  HOSPITALIZED_COUNT  DEATH_COUNT  POPULATION\n",
       "BOROUGH_GROUP                                                         \n",
       "Bronx              145250               22117         5424     1446788\n",
       "Brooklyn           219634               30428         8201     2648452\n",
       "Manhattan          104420               14675         3621     1638281\n",
       "Queens             218887               30890         8257     2330295\n",
       "StatenIsland        59166                5611         1546      487155\n",
       "Citywide           747403              103722        27049     8550971"
      ]
     },
     "execution_count": 20,
     "metadata": {},
     "output_type": "execute_result"
    }
   ],
   "source": [
    "totals_boro"
   ]
  },
  {
   "cell_type": "markdown",
   "metadata": {},
   "source": [
    "### Graphing\n",
    "#### Now that I have all the data I will need for Diagram #3 (Correleation Between Infection Rate and  Total Population Per Borough). I will start plotting. "
   ]
  },
  {
   "cell_type": "code",
   "execution_count": null,
   "metadata": {},
   "outputs": [],
   "source": [
    "df_grouped = totals_boro.groupby(\"BOROUGH_GROUP\").sum()"
   ]
  },
  {
   "cell_type": "code",
   "execution_count": null,
   "metadata": {},
   "outputs": [],
   "source": [
    "df_grouped"
   ]
  },
  {
   "cell_type": "code",
   "execution_count": null,
   "metadata": {},
   "outputs": [],
   "source": []
  },
  {
   "cell_type": "code",
   "execution_count": 21,
   "metadata": {},
   "outputs": [],
   "source": [
    "user_filter = \"CASE_COUNT\"\n",
    "boroughs = \"BOROUGH_GROUP\"\n",
    "population = \"POPULATION\""
   ]
  },
  {
   "cell_type": "code",
   "execution_count": 22,
   "metadata": {},
   "outputs": [
    {
     "data": {
      "image/png": "[encoded data removed]",
      "text/plain": [
       "<Figure size 1440x720 with 1 Axes>"
      ]
     },
     "metadata": {},
     "output_type": "display_data"
    }
   ],
   "source": [
    "from matplotlib import style\n",
    "\n",
    "user_filter = \"CASE_COUNT\"\n",
    "boroughs = \"BOROUGH_GROUP\"\n",
    "population = \"POPULATION\"\n",
    "ticks = [\"Bronx\", \"Brooklyn\", \"Manhattan\", \"Queens\", \"StatenIsland\",\"Citywide\" ]\n",
    "\n",
    "plt.style.use('fivethirtyeight')\n",
    "fig,ax=plt.subplots(figsize=(20,10))\n",
    "color = (\"red\", \"purple\")\n",
    "ax.barh(ticks, totals_boro[population],color=\"#f3e151\")\n",
    "ax.barh(ticks, totals_boro[user_filter], left= totals_boro[population], color=\"#6c3376\")\n",
    "\n",
    "# plt.bar(year, tutorial_premium, color=\"#f3e151\")  \n",
    "# plt.bar(year, tutorial_public, bottom=tutorial_premium, color=\"#6c3376\")\n",
    "# ax.set_title(f'Number of cases per age group in {borough_filter[:2]}',size=24)\n",
    "# ax.set_xlabel('Age group',size=15)\n",
    "# ax.set_ylabel('Number of cases', size=15)\n",
    "plt.show()"
   ]
  },
  {
   "cell_type": "raw",
   "metadata": {},
   "source": []
  },
  {
   "cell_type": "code",
   "execution_count": null,
   "metadata": {},
   "outputs": [],
   "source": []
  }
 ],
 "metadata": {
  "kernelspec": {
   "display_name": "Python 3",
   "language": "python",
   "name": "python3"
  },
  "language_info": {
   "codemirror_mode": {
    "name": "ipython",
    "version": 3
   },
   "file_extension": ".py",
   "mimetype": "text/x-python",
   "name": "python",
   "nbconvert_exporter": "python",
   "pygments_lexer": "ipython3",
   "version": "3.8.3"
  }
 },
 "nbformat": 4,
 "nbformat_minor": 4
}
