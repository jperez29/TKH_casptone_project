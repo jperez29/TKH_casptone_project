{
 "cells": [
  {
   "cell_type": "code",
   "execution_count": 81,
   "metadata": {},
   "outputs": [],
   "source": [
    "import pandas as pd\n",
    "import numpy as np \n",
    "import matplotlib.pyplot as plt\n",
    "import seaborn as sns\n",
    "\n",
    "def data():\n",
    "    df = pd.read_csv(\"https://raw.githubusercontent.com/nychealth/coronavirus-data/master/totals/by-boro.csv\")\n",
    "    df.drop(columns=['CASE_RATE', 'HOSPITALIZED_RATE', 'DEATH_RATE'], inplace=True, axis=1)\n",
    "    return df[:-1]"
   ]
  },
  {
   "cell_type": "code",
   "execution_count": 24,
   "metadata": {},
   "outputs": [],
   "source": [
    "by_boro = pd.read_csv(\"https://raw.githubusercontent.com/nychealth/coronavirus-data/master/totals/by-boro.csv\")\n",
    "by_boro.drop(columns=['CASE_RATE', 'HOSPITALIZED_RATE', 'DEATH_RATE'], inplace=True, axis=1)\n",
    "df = by_boro[:-1]"
   ]
  },
  {
   "cell_type": "code",
   "execution_count": 79,
   "metadata": {},
   "outputs": [],
   "source": [
    "# filters = clean_data()['BOROUGH_GROUP']"
   ]
  },
  {
   "cell_type": "code",
   "execution_count": null,
   "metadata": {},
   "outputs": [],
   "source": []
  },
  {
   "cell_type": "code",
   "execution_count": 82,
   "metadata": {},
   "outputs": [
    {
     "data": {
      "text/html": [
       "<div>\n",
       "<style scoped>\n",
       "    .dataframe tbody tr th:only-of-type {\n",
       "        vertical-align: middle;\n",
       "    }\n",
       "\n",
       "    .dataframe tbody tr th {\n",
       "        vertical-align: top;\n",
       "    }\n",
       "\n",
       "    .dataframe thead th {\n",
       "        text-align: right;\n",
       "    }\n",
       "</style>\n",
       "<table border=\"1\" class=\"dataframe\">\n",
       "  <thead>\n",
       "    <tr style=\"text-align: right;\">\n",
       "      <th></th>\n",
       "      <th>0</th>\n",
       "      <th>1</th>\n",
       "      <th>2</th>\n",
       "      <th>3</th>\n",
       "      <th>4</th>\n",
       "    </tr>\n",
       "  </thead>\n",
       "  <tbody>\n",
       "    <tr>\n",
       "      <th>BOROUGH_GROUP</th>\n",
       "      <td>Bronx</td>\n",
       "      <td>Brooklyn</td>\n",
       "      <td>Manhattan</td>\n",
       "      <td>Queens</td>\n",
       "      <td>StatenIsland</td>\n",
       "    </tr>\n",
       "    <tr>\n",
       "      <th>CASE_COUNT</th>\n",
       "      <td>150576</td>\n",
       "      <td>230588</td>\n",
       "      <td>108426</td>\n",
       "      <td>228408</td>\n",
       "      <td>62136</td>\n",
       "    </tr>\n",
       "    <tr>\n",
       "      <th>HOSPITALIZED_COUNT</th>\n",
       "      <td>22863</td>\n",
       "      <td>31821</td>\n",
       "      <td>15179</td>\n",
       "      <td>32218</td>\n",
       "      <td>5919</td>\n",
       "    </tr>\n",
       "    <tr>\n",
       "      <th>DEATH_COUNT</th>\n",
       "      <td>5569</td>\n",
       "      <td>8556</td>\n",
       "      <td>3753</td>\n",
       "      <td>8546</td>\n",
       "      <td>1606</td>\n",
       "    </tr>\n",
       "  </tbody>\n",
       "</table>\n",
       "</div>"
      ],
      "text/plain": [
       "                         0         1          2       3             4\n",
       "BOROUGH_GROUP        Bronx  Brooklyn  Manhattan  Queens  StatenIsland\n",
       "CASE_COUNT          150576    230588     108426  228408         62136\n",
       "HOSPITALIZED_COUNT   22863     31821      15179   32218          5919\n",
       "DEATH_COUNT           5569      8556       3753    8546          1606"
      ]
     },
     "execution_count": 82,
     "metadata": {},
     "output_type": "execute_result"
    }
   ],
   "source": [
    "df1 = data().transpose()\n",
    "df1"
   ]
  },
  {
   "cell_type": "code",
   "execution_count": 83,
   "metadata": {},
   "outputs": [
    {
     "data": {
      "text/html": [
       "<div>\n",
       "<style scoped>\n",
       "    .dataframe tbody tr th:only-of-type {\n",
       "        vertical-align: middle;\n",
       "    }\n",
       "\n",
       "    .dataframe tbody tr th {\n",
       "        vertical-align: top;\n",
       "    }\n",
       "\n",
       "    .dataframe thead th {\n",
       "        text-align: right;\n",
       "    }\n",
       "</style>\n",
       "<table border=\"1\" class=\"dataframe\">\n",
       "  <thead>\n",
       "    <tr style=\"text-align: right;\">\n",
       "      <th>BOROUGH_GROUP</th>\n",
       "      <th>Bronx</th>\n",
       "      <th>Brooklyn</th>\n",
       "      <th>Manhattan</th>\n",
       "      <th>Queens</th>\n",
       "      <th>StatenIsland</th>\n",
       "    </tr>\n",
       "  </thead>\n",
       "  <tbody>\n",
       "    <tr>\n",
       "      <th>CASE_COUNT</th>\n",
       "      <td>150576</td>\n",
       "      <td>230588</td>\n",
       "      <td>108426</td>\n",
       "      <td>228408</td>\n",
       "      <td>62136</td>\n",
       "    </tr>\n",
       "    <tr>\n",
       "      <th>HOSPITALIZED_COUNT</th>\n",
       "      <td>22863</td>\n",
       "      <td>31821</td>\n",
       "      <td>15179</td>\n",
       "      <td>32218</td>\n",
       "      <td>5919</td>\n",
       "    </tr>\n",
       "    <tr>\n",
       "      <th>DEATH_COUNT</th>\n",
       "      <td>5569</td>\n",
       "      <td>8556</td>\n",
       "      <td>3753</td>\n",
       "      <td>8546</td>\n",
       "      <td>1606</td>\n",
       "    </tr>\n",
       "  </tbody>\n",
       "</table>\n",
       "</div>"
      ],
      "text/plain": [
       "BOROUGH_GROUP        Bronx Brooklyn Manhattan  Queens StatenIsland\n",
       "CASE_COUNT          150576   230588    108426  228408        62136\n",
       "HOSPITALIZED_COUNT   22863    31821     15179   32218         5919\n",
       "DEATH_COUNT           5569     8556      3753    8546         1606"
      ]
     },
     "execution_count": 83,
     "metadata": {},
     "output_type": "execute_result"
    }
   ],
   "source": [
    "# df1.rename(columns={0:\"jpy_price\"}, inplace=True)\n",
    "df1.columns = df1.iloc[0]\n",
    "df1.drop(df1.index[0], inplace=True)\n",
    "df1"
   ]
  },
  {
   "cell_type": "code",
   "execution_count": null,
   "metadata": {},
   "outputs": [],
   "source": []
  },
  {
   "cell_type": "code",
   "execution_count": null,
   "metadata": {},
   "outputs": [],
   "source": []
  },
  {
   "cell_type": "code",
   "execution_count": 85,
   "metadata": {},
   "outputs": [
    {
     "data": {
      "text/html": [
       "<div>\n",
       "<style scoped>\n",
       "    .dataframe tbody tr th:only-of-type {\n",
       "        vertical-align: middle;\n",
       "    }\n",
       "\n",
       "    .dataframe tbody tr th {\n",
       "        vertical-align: top;\n",
       "    }\n",
       "\n",
       "    .dataframe thead th {\n",
       "        text-align: right;\n",
       "    }\n",
       "</style>\n",
       "<table border=\"1\" class=\"dataframe\">\n",
       "  <thead>\n",
       "    <tr style=\"text-align: right;\">\n",
       "      <th></th>\n",
       "      <th>BOROUGH_GROUP</th>\n",
       "      <th>CASE_COUNT</th>\n",
       "      <th>HOSPITALIZED_COUNT</th>\n",
       "      <th>DEATH_COUNT</th>\n",
       "    </tr>\n",
       "  </thead>\n",
       "  <tbody>\n",
       "    <tr>\n",
       "      <th>0</th>\n",
       "      <td>Bronx</td>\n",
       "      <td>150576</td>\n",
       "      <td>22863</td>\n",
       "      <td>5569</td>\n",
       "    </tr>\n",
       "    <tr>\n",
       "      <th>1</th>\n",
       "      <td>Brooklyn</td>\n",
       "      <td>230588</td>\n",
       "      <td>31821</td>\n",
       "      <td>8556</td>\n",
       "    </tr>\n",
       "    <tr>\n",
       "      <th>2</th>\n",
       "      <td>Manhattan</td>\n",
       "      <td>108426</td>\n",
       "      <td>15179</td>\n",
       "      <td>3753</td>\n",
       "    </tr>\n",
       "    <tr>\n",
       "      <th>3</th>\n",
       "      <td>Queens</td>\n",
       "      <td>228408</td>\n",
       "      <td>32218</td>\n",
       "      <td>8546</td>\n",
       "    </tr>\n",
       "    <tr>\n",
       "      <th>4</th>\n",
       "      <td>StatenIsland</td>\n",
       "      <td>62136</td>\n",
       "      <td>5919</td>\n",
       "      <td>1606</td>\n",
       "    </tr>\n",
       "  </tbody>\n",
       "</table>\n",
       "</div>"
      ],
      "text/plain": [
       "  BOROUGH_GROUP  CASE_COUNT  HOSPITALIZED_COUNT  DEATH_COUNT\n",
       "0         Bronx      150576               22863         5569\n",
       "1      Brooklyn      230588               31821         8556\n",
       "2     Manhattan      108426               15179         3753\n",
       "3        Queens      228408               32218         8546\n",
       "4  StatenIsland       62136                5919         1606"
      ]
     },
     "execution_count": 85,
     "metadata": {},
     "output_type": "execute_result"
    }
   ],
   "source": [
    "data()"
   ]
  },
  {
   "cell_type": "code",
   "execution_count": 108,
   "metadata": {},
   "outputs": [
    {
     "data": {
      "text/plain": [
       "<BarContainer object of 3 artists>"
      ]
     },
     "execution_count": 108,
     "metadata": {},
     "output_type": "execute_result"
    },
    {
     "data": {
      "image/png": "[encoded data removed]",
      "text/plain": [
       "<Figure size 432x288 with 1 Axes>"
      ]
     },
     "metadata": {
      "needs_background": "light"
     },
     "output_type": "display_data"
    }
   ],
   "source": [
    "# Bronx\n",
    "x = df1['Bronx']\n",
    "y = df.columns[1:]\n",
    "plt.barh(x,y, color='#b74f6f', height=500.0)"
   ]
  },
  {
   "cell_type": "code",
   "execution_count": 107,
   "metadata": {},
   "outputs": [
    {
     "data": {
      "text/plain": [
       "<AxesSubplot:xlabel='Brooklyn'>"
      ]
     },
     "execution_count": 107,
     "metadata": {},
     "output_type": "execute_result"
    },
    {
     "data": {
      "image/png": "[encoded data removed]",
      "text/plain": [
       "<Figure size 432x288 with 1 Axes>"
      ]
     },
     "metadata": {
      "needs_background": "light"
     },
     "output_type": "display_data"
    }
   ],
   "source": [
    "# Brooklyn\n",
    "x = df1['Brooklyn']\n",
    "y = df.columns[1:]\n",
    "sns.barplot(x = x, y = y, color='#b74f6f')"
   ]
  },
  {
   "cell_type": "code",
   "execution_count": 75,
   "metadata": {},
   "outputs": [
    {
     "data": {
      "text/plain": [
       "<AxesSubplot:xlabel='Manhattan'>"
      ]
     },
     "execution_count": 75,
     "metadata": {},
     "output_type": "execute_result"
    },
    {
     "data": {
      "image/png": "[encoded data removed]",
      "text/plain": [
       "<Figure size 432x288 with 1 Axes>"
      ]
     },
     "metadata": {
      "needs_background": "light"
     },
     "output_type": "display_data"
    }
   ],
   "source": [
    "# Manhattan\n",
    "x = df1['Manhattan']\n",
    "y = df.columns[1:]\n",
    "sns.barplot(x = x, y = y, color='#b74f6f')"
   ]
  },
  {
   "cell_type": "code",
   "execution_count": 76,
   "metadata": {},
   "outputs": [
    {
     "data": {
      "text/plain": [
       "<AxesSubplot:xlabel='Queens'>"
      ]
     },
     "execution_count": 76,
     "metadata": {},
     "output_type": "execute_result"
    },
    {
     "data": {
      "image/png": "[encoded data removed]",
      "text/plain": [
       "<Figure size 432x288 with 1 Axes>"
      ]
     },
     "metadata": {
      "needs_background": "light"
     },
     "output_type": "display_data"
    }
   ],
   "source": [
    "# Queens\n",
    "x = df1['Queens']\n",
    "y = df.columns[1:]\n",
    "sns.barplot(x = x, y = y, color='#b74f6f')"
   ]
  },
  {
   "cell_type": "code",
   "execution_count": 78,
   "metadata": {},
   "outputs": [
    {
     "data": {
      "text/plain": [
       "<AxesSubplot:xlabel='StatenIsland'>"
      ]
     },
     "execution_count": 78,
     "metadata": {},
     "output_type": "execute_result"
    },
    {
     "data": {
      "image/png": "[encoded data removed]",
      "text/plain": [
       "<Figure size 432x288 with 1 Axes>"
      ]
     },
     "metadata": {
      "needs_background": "light"
     },
     "output_type": "display_data"
    }
   ],
   "source": [
    "# Staten Island\n",
    "x = df1['StatenIsland']\n",
    "y = df.columns[1:]\n",
    "sns.barplot(x = x, y = y, color='#b74f6f')"
   ]
  },
  {
   "cell_type": "code",
   "execution_count": null,
   "metadata": {},
   "outputs": [],
   "source": []
  }
 ],
 "metadata": {
  "kernelspec": {
   "display_name": "Python 3",
   "language": "python",
   "name": "python3"
  },
  "language_info": {
   "codemirror_mode": {
    "name": "ipython",
    "version": 3
   },
   "file_extension": ".py",
   "mimetype": "text/x-python",
   "name": "python",
   "nbconvert_exporter": "python",
   "pygments_lexer": "ipython3",
   "version": "3.8.5"
  }
 },
 "nbformat": 4,
 "nbformat_minor": 4
}
