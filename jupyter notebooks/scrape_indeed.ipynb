{
 "cells": [
  {
   "cell_type": "markdown",
   "metadata": {},
   "source": [
    "### Agenda:\n",
    "- scrape from indeed to get job postings for different roles (refer to wireframe)\n",
    "- scrape links to job descriptions of each job postings\n",
    "- write a for loop using try and except to scrape all pages \n",
    "- create a web crawler using the links found from scrapping to get the body description\n",
    "- create a list of technologies for each tech role and check the frequency that they appear on each body description. This is to see the technologies that show up more frequently\n",
    "- we also want information about the educaton requirements that each posting shows\n",
    "- we need information for four cities: Atlanta, GA, NYC, NY, Los Angeles, CA, and Newark, NJ"
   ]
  },
  {
   "cell_type": "code",
   "execution_count": 5,
   "metadata": {},
   "outputs": [],
   "source": [
    "import requests\n",
    "from bs4 import BeautifulSoup"
   ]
  },
  {
   "cell_type": "code",
   "execution_count": 5,
   "metadata": {},
   "outputs": [],
   "source": [
    "def extract(page):\n",
    "    headers = {'User-Agent': \"Mozilla/5.0 (Windows NT 10.0; Win64; x64) AppleWebKit/537.36 (KHTML, like Gecko) Chrome/90.0.4430.212 Safari/537.36\"}\n",
    "    url = f\"https://www.indeed.com/jobs?q=front+end+developer&l=New+York%2C+NY&start={page}\"\n",
    "    r = requests.get(url, headers)\n",
    "    soup = BeautifulSoup(r.content, 'html.parser')\n",
    "    return soup"
   ]
  },
  {
   "cell_type": "code",
   "execution_count": 6,
   "metadata": {},
   "outputs": [],
   "source": [
    "#try and except\n",
    "#loop to get data from all pages\n",
    "\n",
    "c = extract(0)"
   ]
  },
  {
   "cell_type": "code",
   "execution_count": 7,
   "metadata": {
    "scrolled": true
   },
   "outputs": [
    {
     "name": "stdout",
     "output_type": "stream",
     "text": [
      "indeed.com/pagead/clk?mo=r&ad=-6NYlbfkN0BbIbu35rN4ToQZZxETN3tZlg0cK7iFEHC0AqmvhRxc6_RiK6STRcYZkgqa5FWJonWJHMGeQtKNgIdb9sze9e2ZNpQNhZMnfJwtEDx_3sbidDyT8hjb9gCSk25So4MLb8dbWp1NS7VsfykQYLCHTL4hQd53R6q3fw-Uf2Je_duCyUVW01SX5PYkdye_euI0pRdknzWQ8yqlfgkLtFBsinOQ0nHELZOM6EVN6De4nUGPIC-1UCjhJPXkY1BeXXJpqfJNLMeeHLZL-9UthEjTVRF_hOlTl7Hb1zoUMo7khbRXgcdYrHdtomOAhXRKlcS-XHpoliR6q90GE1Dj97tEBasCyKLJsO04lZMB6lRZKOLtBYZ4fZqOih2BhC_HbB2zJMHDkGVDuJJD67P3rWtfobLDqcbC9IoQb965amsQg1d0TWl4_uqbue-ASue59vf7fmewAOIolN5XWxv3-7_m-XsQs37Fzz1ENh8BXhINGOptwgkUwxT5cMWMqj3XxR34aZxiwaz9bjAgdIBenp4X3KbfhZHiXKOH_DrZjNWg5MWCgwQQsSK6kN3Ks_EBaMz4n-BEV_anSaTMXjWphcxv9-tmsqb1o94vz3d8AP4iLxtUMRPl3TmGV_ioLW5d2LxgkAeNoM86Fy2CyBPp20oVldr4TNrFUqLpPyGxLgIJnIhVLxuHP3xCD_7DNEJ38Ak0kkDt4eVqfz8dP0nZGRCZhqIb_4zZQAc1kTx9SHz_jm57dg_kCjoGGwp75AAviv_TfzAlmXIdSOOT_hnpu00Q8RtWHWWUwxb6Hb4sbsToi9Q5hMA5VU4NLq6HpBBk9MI-EXRURJ1aXk_uMcRaq9wZpjVHCwlLKEcl8Nlhw4g-_cLrv0vq_eonbPWVla4ASKTRnWcby4ekjsCIV2KaJZGPt20oJnb8rqqtYA7nJBNe9z7T3Cp7wetZil4L9mM4WUz7R4MU-1QskThRdUeCgVL867TEaXm6EgqikeU=&p=0&fvj=0&vjs=3\n",
      "['Front End Developer (Entry level)', 'Revature', '3.6', 'New York, NY', 'College degree (Associates or Bachelors).', 'Must be authorized to work in the US.', 'Strong desire to learn to code – No prior professional experience required.', '24 days ago']\n",
      "\n",
      "\n",
      "indeed.com/pagead/clk?mo=r&ad=-6NYlbfkN0BR3ykMnr3Vw97HK5IC0i9Uo32NXohanwqRY-CI8z69bhgeevNMD5QwpgIbCznTjwZvbVeLsIdcGoSjVbvWM31Ek6a13wncMoQu9q0qqJzEHoREKATBoe9smXzENIwHFs1bjBVre3idL5iALjRu0vfn27yE4K2wjunVPjsTzX3bFcfOy4OoHeYYQhhPpmwcJIjkM7FwexT7TJ_DI1SFoiejXFvtaH7eNSoDNYBFgykpTf2XRnQrZIvbD0yoYf7Ub-NFDZxE1P4KuENR4MgGOkYje47ESyJ88LhnSi00YyfPnRmqQDMpT1TAkkfppai_v8G7svTM1O3hTYIdIU8I0dLvGf6QdKvLG0VTO3aMZt4uzdJ4wSnsEyuGOxR9BtQiyj07wgZ8VbPj4vpojlTAQVlKwLH17eWIWh2uCN1G7BEYT5KNkHMxtaKwFTUittTfcKNGw5WHO5VlG4rUr6JKtzVWllucUDdsMSFpCm6JA--frvZToD7ItWtyRktD3er6CYa37A87ZBDIOYchMr1t-CdOylyRX9qFHQGAm3bbkJ9lAklWbDk8_8DhGC0WbKWKsNAmvEV1pHdO67SlnXyI-jWYiGBZHK4sC9lL9bR8j0BGrrai4Crd6YiAr69ZwYTMco5SGBm4J1UQkIILea4AF5Ny0aiZoj2p2zLjoDenoUHQ_PYeLdsshooZxdoEjsy5J0V82CkAOXhTBgHSNcxLXpEtoh61k4-rdz2Qmu77a0JKFzFreluG-qphu_WkrlHZ5fhm0ScAnIoRw9Cz5FY9LQr53SDB1kr8lZm0ViF7PUrYHqOyHQ8qqY-1NOPpyBWuX13l03XALXB09lA-OS-ySzkTPXlEn_tLAV1vOlNzz2X_YxfmZ56lp059uELsReCMjHXNbDIiYjZKkI2kMJiqSh1I8MTP4Ww4tW_xYzrfMo0GMC8xOaqk9c5xEW5FrZLOzRKWHSv0pYr8q1-WKK5yL5FMlIUtIab3lwgd4HqZe0U9lNq2dLdOa8wS_ZVREMjm_MGl4ymjRSRBw4-oW2ymyiUqTVVhUh9tLZOhfZpUDUwHag==&p=1&fvj=0&vjs=3\n",
      "['new', 'Front End Engineer', 'Michael Page', '3.5', 'New York, NY', 'Deep experience in one or more relevant front-end frameworks such as React.', 'Skilled with common front-end technologies such as HTML, CSS, JS, TypeScript, and…', '7 days ago']\n",
      "\n",
      "\n",
      "indeed.com/rc/clk?jk=34f4beb4d3d13432&fccid=fe2d21eef233e94a&vjs=3\n",
      "['Front End Developer - Returnship', 'Amazon.com Services LLC', '3.5', 'New York, NY', '$58.75 an hour', 'Experience building scalable front-end infrastructure software or distributed systems.', '2+ years of professional non-internship experience with', 'front', 'end', ', web or…', '30+ days ago', '·', 'More...', 'View all', 'Amazon.com Services LLC jobs in New York, NY', '-', 'New York jobs', 'Salary Search:', 'Front End Developer - Returnship salaries in New York, NY', 'Learn more about working at', 'Amazon.com Services LLC', 'See popular', 'questions & answers about Amazon.com Services LLC']\n",
      "\n",
      "\n",
      "indeed.com/rc/clk?jk=9bace924e0fd64bb&fccid=074555cbff44af1b&vjs=3\n",
      "['new', 'Junior Front End Developer', 'ERGO', 'New York, NY', '•', 'Remote', 'Easily apply', '1–2 years experience in front-end development.', 'This role will focus on developing highly visible, responsive HTML emails.', '5 days ago', '·', 'More...', 'View all', 'ERGO jobs in New York, NY', '-', 'New York jobs']\n",
      "\n",
      "\n",
      "indeed.com/rc/clk?jk=6a461becd6ded05a&fccid=f057e04c37cca134&vjs=3\n",
      "['Engineer- Front End UI', 'American Express', '4.1', 'New York, NY', 'Serving as a core member of an agile team that leads user story analysis and elaboration, designs and develops software applications.', '30+ days ago', '·', 'More...', 'View all', 'American Express jobs in New York, NY', '-', 'New York jobs', 'Salary Search:', 'Engineer- Front End UI salaries in New York, NY', 'Learn more about working at', 'American Express', 'See popular', 'questions & answers about American Express']\n",
      "\n",
      "\n",
      "indeed.com/rc/clk?jk=18ee9e1699c06f7b&fccid=a5b4499d9e91a5c6&vjs=3\n",
      "['new', 'UX Engineer, Front End, University Graduate', 'Google', '4.3', 'New York, NY', 'Work closely with UX designers, project managers and back-end engineers to implement versatile front-end solutions to web development issues.', '6 days ago', '·', 'More...', 'View all', 'Google jobs in New York, NY', '-', 'New York jobs', 'Salary Search:', 'UX Engineer, Front End, University Graduate salaries in New York, NY', 'Learn more about working at', 'Google', 'See popular', 'questions & answers about Google']\n",
      "\n",
      "\n",
      "indeed.com/rc/clk?jk=3592580aa4cd96bf&fccid=1639254ea84748b5&vjs=3\n",
      "['new', 'Front End Engineer', 'Facebook', '4.1', 'New York, NY', '2+ years experience with browser APIs and optimizing', 'front', 'end', 'performance.', 'Architect efficient and reusable front-end systems that drive complex web…', '4 days ago', '·', 'More...', 'View all', 'Facebook jobs in New York, NY', '-', 'New York jobs', 'Salary Search:', 'Front End Engineer salaries in New York, NY', 'Learn more about working at', 'Facebook', 'See popular', 'questions & answers about Facebook']\n",
      "\n",
      "\n",
      "indeed.com/rc/clk?jk=2463e3fbf0d9a6ff&fccid=b716e44d2c6283e7&vjs=3\n",
      "['new', 'Front-End Software Engineer', 'S&P Global', '3.9', 'New York, NY', '$68,300 - $155,900 a year', 'Proficiency in HTML, CSS, and Javascript /TypeScript - 5+ years of work experience - Web Development, Front-End Software Engineering - 2+ years of work…', '5 days ago', '·', 'More...', 'View all', 'S&P Global jobs in New York, NY', '-', 'New York jobs', 'Salary Search:', 'Front-End Software Engineer salaries in New York, NY', 'See popular', 'questions & answers about S&P Global']\n",
      "\n",
      "\n",
      "indeed.com/rc/clk?jk=da71821664571794&fccid=aaf3b433897ea465&vjs=3\n",
      "['CIB, Front-End Web Developer, Associate', 'JPMorgan Chase Bank, N.A.', '3.9', 'New York, NY', 'Coordinate with back-end', 'developers', 'across the firm for oversight and maintenance.', 'Experience coordinating with server infrastructure for delivering front-end…', '22 days ago', '·', 'More...', 'View all', 'JPMorgan Chase Bank, N.A. jobs in New York, NY', '-', 'New York jobs', 'Salary Search:', 'CIB, Front-End Web Developer, Associate salaries in New York, NY', 'See popular', 'questions & answers about JPMorgan Chase Bank, N.A.']\n",
      "\n",
      "\n",
      "indeed.com/rc/clk?jk=9e76e485b48fe6d0&fccid=86ac0cdf17b42948&vjs=3\n",
      "['Junior Web Developer', 'Crunchapps', 'New York, NY', '1+ years experience with website design.', 'Great HTML and CSS skills, experience developing web sites without templates.', '30+ days ago', '·', 'More...', 'View all', 'Crunchapps jobs in New York, NY', '-', 'New York jobs', 'Salary Search:', 'Junior Web Developer salaries in New York, NY']\n",
      "\n",
      "\n",
      "indeed.com/rc/clk?jk=5a4fd8adbe23fca5&fccid=5821cdc8e681e5a7&vjs=3\n",
      "['Front-End Developer', 'Pippin Technologies', 'New York, NY', 'Familiarity with a front-end responsive framework such as Bootstrap or Foundation is required.', 'Bachelors degree in computer science or similar field.', '30+ days ago', '·', 'More...', 'View all', 'Pippin Technologies jobs in New York, NY', '-', 'New York jobs', 'Salary Search:', 'Front-End Developer salaries in New York, NY']\n",
      "\n",
      "\n",
      "indeed.com/rc/clk?jk=c71e96102f2b3b25&fccid=c48e788a5f55ea2d&vjs=3\n",
      "['Junior Front End Engineer', 'Spruce', '3.7', 'New York, NY', \"Help build Spruce's user-facing (buyers, sellers, clients, lenders, internal operations) applications and user interfaces.\", '20 days ago', '·', 'More...', 'View all', 'Spruce jobs in New York, NY', '-', 'New York jobs', 'See popular', 'questions & answers about Spruce']\n",
      "\n",
      "\n",
      "indeed.com/rc/clk?jk=6641aaac5000f792&fccid=1b50fcfb150b1b48&vjs=3\n",
      "['Front-end Software Engineer, Wirecutter (Remote)', 'The New York Times', '4.0', 'New York, NY', '•', 'Remote', 'Wirecutter is seeking a Front-end Software Engineer to help build features that improve on the ways our millions of readers make informed buying decisions.', '30+ days ago', '·', 'More...', 'View all', 'The New York Times jobs in New York, NY', '-', 'New York jobs', 'Salary Search:', 'Front-end Software Engineer, Wirecutter (Remote) salaries in New York, NY', 'See popular', 'questions & answers about The New York Times']\n",
      "\n",
      "\n",
      "indeed.com/rc/clk?jk=0df4b1437305197b&fccid=353eb997fc901045&vjs=3\n",
      "['Software Engineer - Front End - New York Hub', 'Veeva Systems', '4.0', 'New York, NY', '•', 'Remote', \"You will be directly collaborating with the back-end and design teams to develop and maintain the UI of Veeva's cloud-based applications with modern JavaScript…\", '19 days ago', '·', 'More...', 'View all', 'Veeva Systems jobs in New York, NY', '-', 'New York jobs', 'Salary Search:', 'Software Engineer - Front End - New York Hub salaries in New York, NY', 'Learn more about working at', 'Veeva Systems', 'See popular', 'questions & answers about Veeva Systems']\n",
      "\n",
      "\n",
      "indeed.com/rc/clk?jk=d86f1241f6759988&fccid=150e3cde9175cb06&vjs=3\n",
      "['Web Developer / HTML', 'Phoenix Technology Partners', 'New York, NY', 'Build applications using HTML, CSS, and JavaScript.', 'Craft beautiful cross-browser and cross-device compatible pages.', '30+ days ago', '·', 'More...', 'View all', 'Phoenix Technology Partners jobs in New York, NY', '-', 'New York jobs', 'Salary Search:', 'Web Developer / HTML salaries in New York, NY']\n",
      "\n",
      "\n",
      "None\n"
     ]
    }
   ],
   "source": [
    "def transform(soup):\n",
    "    if soup:\n",
    "        divs = soup.find_all(id =\"mosaic-provider-jobcards\")\n",
    "        a_tags = soup.find_all('a', class_ = 'result')\n",
    "        for item in a_tags:\n",
    "            link = 'indeed.com' + item.get('href')\n",
    "            print(link)\n",
    "            print(list(item.stripped_strings), end = '\\n\\n\\n')\n",
    "    else:\n",
    "        print('soup is empty')\n",
    "        \n",
    "print(transform(c))"
   ]
  },
  {
   "cell_type": "markdown",
   "metadata": {},
   "source": [
    "### scraping particular page to get an idea of what it returns"
   ]
  },
  {
   "cell_type": "code",
   "execution_count": 6,
   "metadata": {},
   "outputs": [],
   "source": [
    "def extract_func():\n",
    "    headers = {'User-Agent': \"Mozilla/5.0 (Windows NT 10.0; Win64; x64) AppleWebKit/537.36 (KHTML, like Gecko) Chrome/90.0.4430.212 Safari/537.36\"}\n",
    "    url = f\"https://www.indeed.com/viewjob?jk=382c2afc58e7307a&tk=1f663vu84u2n4800&from=serp&vjs=3\"\n",
    "    r = requests.get(url, headers)\n",
    "    soup = BeautifulSoup(r.content, 'html.parser')\n",
    "    return soup"
   ]
  },
  {
   "cell_type": "code",
   "execution_count": 7,
   "metadata": {},
   "outputs": [],
   "source": [
    "d = extract_func()"
   ]
  },
  {
   "cell_type": "code",
   "execution_count": 49,
   "metadata": {},
   "outputs": [],
   "source": [
    "\n",
    "list_of_tech = ['HTML', 'CSS', 'JavaScript', 'PHP', 'Angular', 'React', 'Vue', 'Typescript', 'Node.JS', 'Swift', 'Java', 'jQuery']"
   ]
  },
  {
   "cell_type": "code",
   "execution_count": null,
   "metadata": {},
   "outputs": [],
   "source": [
    "dct_front_end = {}\n",
    "for item in list_of_tech:\n",
    "    if item in body_job_description:\n",
    "        append to dct_front_end\n",
    "            dct[item] +=1"
   ]
  },
  {
   "cell_type": "code",
   "execution_count": 62,
   "metadata": {
    "scrolled": true
   },
   "outputs": [
    {
     "name": "stdout",
     "output_type": "stream",
     "text": [
      "2087\n",
      "{}\n"
     ]
    }
   ],
   "source": [
    "def transform_func(soup):\n",
    "    body = divs = soup.find_all(id =\"jobDescriptionText\")\n",
    "    text = ''\n",
    "    for item in body:\n",
    "        text += str(list(item.stripped_strings))\n",
    "    list_of_tech = ['HTML', 'CSS', 'JavaScript', 'PHP', 'Angular', 'React', 'Vue', 'Typescript', 'Node.JS', 'Swift', 'Java', 'jQuery']\n",
    "    dct = {}\n",
    "    print(len(list(text)))\n",
    "#     for item in list_of_tech:\n",
    "#         for word in list(text):\n",
    "#             if item in word:\n",
    "#                 print(f'{item} is here')\n",
    "#                 if item not in dct.keys():\n",
    "#                     dct[item] =1\n",
    "#                 else:\n",
    "#                     dct[item] += 1\n",
    "    print(dct)\n",
    "    \n",
    "#     lst = []\n",
    "#     for item in body:\n",
    "#         print(lst.append(list(item.stripped_strings)))\n",
    "#     print(lst)\n",
    "\n",
    "transform_func(d)"
   ]
  },
  {
   "cell_type": "code",
   "execution_count": 6,
   "metadata": {},
   "outputs": [
    {
     "name": "stdout",
     "output_type": "stream",
     "text": [
      "python is here\n",
      "ruby is here\n",
      "scala is here\n",
      "{'python': 1, 'ruby': 1, 'scala': 1}\n"
     ]
    }
   ],
   "source": [
    "description = 'css, and another language to know is python, python, python, ruby, and scala'\n",
    "all_technologies =['python', 'ruby', 'scala']\n",
    "\n",
    "#check dictionary per role per city\n",
    "tech = {}\n",
    "for item in technologies:\n",
    "    if item in description:\n",
    "        print(f'{item} is here')\n",
    "        if item not in tech.keys():\n",
    "            tech[item] = 1\n",
    "        else:\n",
    "            tech[item] += 1\n",
    "print(tech)"
   ]
  },
  {
   "cell_type": "markdown",
   "metadata": {},
   "source": [
    "Notes:\n",
    "- one view with all technology breakdowns\n",
    "- further breakout by city"
   ]
  }
 ],
 "metadata": {
  "kernelspec": {
   "display_name": "Python 3",
   "language": "python",
   "name": "python3"
  },
  "language_info": {
   "codemirror_mode": {
    "name": "ipython",
    "version": 3
   },
   "file_extension": ".py",
   "mimetype": "text/x-python",
   "name": "python",
   "nbconvert_exporter": "python",
   "pygments_lexer": "ipython3",
   "version": "3.8.5"
  }
 },
 "nbformat": 4,
 "nbformat_minor": 4
}
