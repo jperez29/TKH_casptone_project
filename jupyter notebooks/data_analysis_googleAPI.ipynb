{
 "cells": [
  {
   "cell_type": "markdown",
   "metadata": {},
   "source": [
    "### Next steps:\n",
    "\n",
    "1) do one-hot encoding with the job titles. Create a new column with job title/industry id \n",
    "\n",
    "2) Once we get this, we'll be able to group by ids, and not job titles"
   ]
  },
  {
   "cell_type": "code",
   "execution_count": 1,
   "metadata": {},
   "outputs": [],
   "source": [
    "import pandas as pd\n",
    "import sqlite3 as sql\n",
    "import matplotlib.pyplot as plt\n",
    "\n",
    "from matplotlib import cm\n",
    "import numpy as np\n",
    "from itertools import cycle, islice"
   ]
  },
  {
   "cell_type": "code",
   "execution_count": null,
   "metadata": {},
   "outputs": [],
   "source": [
    "db = '../employment_data.db'\n",
    "conn = sql.connect(db)"
   ]
  },
  {
   "cell_type": "code",
   "execution_count": null,
   "metadata": {},
   "outputs": [],
   "source": [
    "df = pd.read_sql_query(\"SELECT * FROM employment_data;\", conn)"
   ]
  },
  {
   "cell_type": "code",
   "execution_count": null,
   "metadata": {},
   "outputs": [],
   "source": [
    "df"
   ]
  },
  {
   "cell_type": "code",
   "execution_count": null,
   "metadata": {},
   "outputs": [],
   "source": [
    "conn.close()"
   ]
  },
  {
   "cell_type": "code",
   "execution_count": null,
   "metadata": {},
   "outputs": [],
   "source": [
    "df.info()"
   ]
  },
  {
   "cell_type": "code",
   "execution_count": null,
   "metadata": {},
   "outputs": [],
   "source": [
    "df['description'] = df['description'].str.replace('\\n', ' ')"
   ]
  },
  {
   "cell_type": "code",
   "execution_count": null,
   "metadata": {
    "scrolled": false
   },
   "outputs": [],
   "source": [
    "df"
   ]
  },
  {
   "cell_type": "markdown",
   "metadata": {},
   "source": [
    "## Converting Title names and Descriptions to lowercase"
   ]
  },
  {
   "cell_type": "code",
   "execution_count": null,
   "metadata": {},
   "outputs": [],
   "source": [
    "def lowercase(col):\n",
    "    return list(map(lambda x: x.lower(), df[col]))\n",
    "\n",
    "df['lowercase_title'] = lowercase('title')\n",
    "df['lowercase_description'] = lowercase('description')"
   ]
  },
  {
   "cell_type": "code",
   "execution_count": null,
   "metadata": {},
   "outputs": [],
   "source": [
    "df"
   ]
  },
  {
   "cell_type": "code",
   "execution_count": null,
   "metadata": {},
   "outputs": [],
   "source": [
    "a = df.groupby(['location_category','job_category']).count()\n",
    "a"
   ]
  },
  {
   "cell_type": "code",
   "execution_count": null,
   "metadata": {
    "scrolled": true
   },
   "outputs": [],
   "source": [
    "df.info()"
   ]
  },
  {
   "cell_type": "code",
   "execution_count": null,
   "metadata": {},
   "outputs": [],
   "source": [
    "df.to_csv('updated_categories_employment_data.csv', index = False)"
   ]
  },
  {
   "cell_type": "markdown",
   "metadata": {},
   "source": [
    "# Reading csv as a dataframe"
   ]
  },
  {
   "cell_type": "code",
   "execution_count": 2,
   "metadata": {},
   "outputs": [],
   "source": [
    "df_new = pd.read_csv('updated_categories_employment_data.csv') "
   ]
  },
  {
   "cell_type": "code",
   "execution_count": 3,
   "metadata": {
    "scrolled": true
   },
   "outputs": [
    {
     "data": {
      "text/html": [
       "<div>\n",
       "<style scoped>\n",
       "    .dataframe tbody tr th:only-of-type {\n",
       "        vertical-align: middle;\n",
       "    }\n",
       "\n",
       "    .dataframe tbody tr th {\n",
       "        vertical-align: top;\n",
       "    }\n",
       "\n",
       "    .dataframe thead th {\n",
       "        text-align: right;\n",
       "    }\n",
       "</style>\n",
       "<table border=\"1\" class=\"dataframe\">\n",
       "  <thead>\n",
       "    <tr style=\"text-align: right;\">\n",
       "      <th></th>\n",
       "      <th>title</th>\n",
       "      <th>company_name</th>\n",
       "      <th>location</th>\n",
       "      <th>via</th>\n",
       "      <th>job_category</th>\n",
       "      <th>location_category</th>\n",
       "      <th>description</th>\n",
       "      <th>schedule_type</th>\n",
       "      <th>job_id</th>\n",
       "      <th>lowercase_title</th>\n",
       "      <th>lowercase_description</th>\n",
       "    </tr>\n",
       "  </thead>\n",
       "  <tbody>\n",
       "    <tr>\n",
       "      <th>0</th>\n",
       "      <td>Software Engineer - All levels</td>\n",
       "      <td>Bubble</td>\n",
       "      <td>New York, NY</td>\n",
       "      <td>via AngelList</td>\n",
       "      <td>software engineer</td>\n",
       "      <td>new york city</td>\n",
       "      <td>For 95% of programming jobs, the primary focus...</td>\n",
       "      <td>Full-time</td>\n",
       "      <td>eyJqb2JfdGl0bGUiOiJTb2Z0d2FyZSBFbmdpbmVlciAtIE...</td>\n",
       "      <td>software engineer - all levels</td>\n",
       "      <td>for 95% of programming jobs, the primary focus...</td>\n",
       "    </tr>\n",
       "    <tr>\n",
       "      <th>1</th>\n",
       "      <td>Software Engineer - Apple Media Products, Core...</td>\n",
       "      <td>Apple</td>\n",
       "      <td>New York, NY</td>\n",
       "      <td>via Careers At Apple</td>\n",
       "      <td>software engineer</td>\n",
       "      <td>new york city</td>\n",
       "      <td>Summary Posted: May 24, 2021  Role Number:2002...</td>\n",
       "      <td>Full-time</td>\n",
       "      <td>eyJqb2JfdGl0bGUiOiJTb2Z0d2FyZSBFbmdpbmVlciAtIE...</td>\n",
       "      <td>software engineer - apple media products, core...</td>\n",
       "      <td>summary posted: may 24, 2021  role number:2002...</td>\n",
       "    </tr>\n",
       "    <tr>\n",
       "      <th>2</th>\n",
       "      <td>Software Engineer</td>\n",
       "      <td>Robinhood</td>\n",
       "      <td>New York, NY</td>\n",
       "      <td>via LinkedIn</td>\n",
       "      <td>software engineer</td>\n",
       "      <td>new york city</td>\n",
       "      <td>Join a leading fintech company that’s democrat...</td>\n",
       "      <td>Full-time</td>\n",
       "      <td>eyJqb2JfdGl0bGUiOiJTb2Z0d2FyZSBFbmdpbmVlciIsIm...</td>\n",
       "      <td>software engineer</td>\n",
       "      <td>join a leading fintech company that’s democrat...</td>\n",
       "    </tr>\n",
       "    <tr>\n",
       "      <th>3</th>\n",
       "      <td>Software Engineer III</td>\n",
       "      <td>Google</td>\n",
       "      <td>New York, NY (+1 other)</td>\n",
       "      <td>via LinkedIn</td>\n",
       "      <td>software engineer</td>\n",
       "      <td>new york city</td>\n",
       "      <td>Note: By applying to this position you will ha...</td>\n",
       "      <td>Full-time</td>\n",
       "      <td>eyJqb2JfdGl0bGUiOiJTb2Z0d2FyZSBFbmdpbmVlciBJSU...</td>\n",
       "      <td>software engineer iii</td>\n",
       "      <td>note: by applying to this position you will ha...</td>\n",
       "    </tr>\n",
       "    <tr>\n",
       "      <th>4</th>\n",
       "      <td>Software Engineer</td>\n",
       "      <td>Capital One</td>\n",
       "      <td>New York, NY</td>\n",
       "      <td>via Capital One Careers</td>\n",
       "      <td>software engineer</td>\n",
       "      <td>new york city</td>\n",
       "      <td>Locations: NY - New York, United States of Ame...</td>\n",
       "      <td>Full-time</td>\n",
       "      <td>eyJqb2JfdGl0bGUiOiJTb2Z0d2FyZSBFbmdpbmVlciIsIm...</td>\n",
       "      <td>software engineer</td>\n",
       "      <td>locations: ny - new york, united states of ame...</td>\n",
       "    </tr>\n",
       "    <tr>\n",
       "      <th>...</th>\n",
       "      <td>...</td>\n",
       "      <td>...</td>\n",
       "      <td>...</td>\n",
       "      <td>...</td>\n",
       "      <td>...</td>\n",
       "      <td>...</td>\n",
       "      <td>...</td>\n",
       "      <td>...</td>\n",
       "      <td>...</td>\n",
       "      <td>...</td>\n",
       "      <td>...</td>\n",
       "    </tr>\n",
       "    <tr>\n",
       "      <th>7333</th>\n",
       "      <td>UX Designer-Remote</td>\n",
       "      <td>PDS Tech, Inc.</td>\n",
       "      <td>Atlanta, GA</td>\n",
       "      <td>via TopTechJobs</td>\n",
       "      <td>UI/UX designer</td>\n",
       "      <td>atlanta georgia</td>\n",
       "      <td>You need to be highly collaborative and able t...</td>\n",
       "      <td>Full-time</td>\n",
       "      <td>eyJqb2JfdGl0bGUiOiJVWCBEZXNpZ25lci1SZW1vdGUiLC...</td>\n",
       "      <td>ux designer-remote</td>\n",
       "      <td>you need to be highly collaborative and able t...</td>\n",
       "    </tr>\n",
       "    <tr>\n",
       "      <th>7334</th>\n",
       "      <td>UX Designer</td>\n",
       "      <td>Jobleads</td>\n",
       "      <td>Atlanta, GA</td>\n",
       "      <td>via Jobilize</td>\n",
       "      <td>UI/UX designer</td>\n",
       "      <td>atlanta georgia</td>\n",
       "      <td>Welcome to the Anthem Careers site! We have be...</td>\n",
       "      <td>Full-time</td>\n",
       "      <td>eyJqb2JfdGl0bGUiOiJVWCBEZXNpZ25lciIsImNvbXBhbn...</td>\n",
       "      <td>ux designer</td>\n",
       "      <td>welcome to the anthem careers site! we have be...</td>\n",
       "    </tr>\n",
       "    <tr>\n",
       "      <th>7335</th>\n",
       "      <td>Senior UI Creative Designer</td>\n",
       "      <td>Capgemini</td>\n",
       "      <td>Atlanta, GA</td>\n",
       "      <td>via ZipRecruiter</td>\n",
       "      <td>UI/UX designer</td>\n",
       "      <td>atlanta georgia</td>\n",
       "      <td>Capgemini is a looking for a Senior UI / Creat...</td>\n",
       "      <td>Full-time</td>\n",
       "      <td>eyJqb2JfdGl0bGUiOiJTZW5pb3IgVUkgQ3JlYXRpdmUgRG...</td>\n",
       "      <td>senior ui creative designer</td>\n",
       "      <td>capgemini is a looking for a senior ui / creat...</td>\n",
       "    </tr>\n",
       "    <tr>\n",
       "      <th>7336</th>\n",
       "      <td>Senior UX Designer, Digital Transformation - R...</td>\n",
       "      <td>IHS Markit</td>\n",
       "      <td>Atlanta, GA</td>\n",
       "      <td>via IHS Markit</td>\n",
       "      <td>UI/UX designer</td>\n",
       "      <td>atlanta georgia</td>\n",
       "      <td>Position Summary  As a key player in the digit...</td>\n",
       "      <td>Full-time</td>\n",
       "      <td>eyJqb2JfdGl0bGUiOiJTZW5pb3IgVVggRGVzaWduZXIsIE...</td>\n",
       "      <td>senior ux designer, digital transformation - r...</td>\n",
       "      <td>position summary  as a key player in the digit...</td>\n",
       "    </tr>\n",
       "    <tr>\n",
       "      <th>7337</th>\n",
       "      <td>Lead UX Designer - Remote within USA</td>\n",
       "      <td>Astound Commerce</td>\n",
       "      <td>Atlanta, GA</td>\n",
       "      <td>via NetTemps</td>\n",
       "      <td>UI/UX designer</td>\n",
       "      <td>atlanta georgia</td>\n",
       "      <td>Hi, we're Astound. We transform businesses wit...</td>\n",
       "      <td>Full-time</td>\n",
       "      <td>eyJqb2JfdGl0bGUiOiJMZWFkIFVYIERlc2lnbmVyIC0gUm...</td>\n",
       "      <td>lead ux designer - remote within usa</td>\n",
       "      <td>hi, we're astound. we transform businesses wit...</td>\n",
       "    </tr>\n",
       "  </tbody>\n",
       "</table>\n",
       "<p>7338 rows × 11 columns</p>\n",
       "</div>"
      ],
      "text/plain": [
       "                                                  title      company_name  \\\n",
       "0                        Software Engineer - All levels            Bubble   \n",
       "1     Software Engineer - Apple Media Products, Core...             Apple   \n",
       "2                                     Software Engineer         Robinhood   \n",
       "3                                 Software Engineer III            Google   \n",
       "4                                     Software Engineer       Capital One   \n",
       "...                                                 ...               ...   \n",
       "7333                                 UX Designer-Remote    PDS Tech, Inc.   \n",
       "7334                                        UX Designer          Jobleads   \n",
       "7335                        Senior UI Creative Designer         Capgemini   \n",
       "7336  Senior UX Designer, Digital Transformation - R...        IHS Markit   \n",
       "7337               Lead UX Designer - Remote within USA  Astound Commerce   \n",
       "\n",
       "                     location                      via       job_category  \\\n",
       "0                New York, NY            via AngelList  software engineer   \n",
       "1                New York, NY     via Careers At Apple  software engineer   \n",
       "2                New York, NY             via LinkedIn  software engineer   \n",
       "3     New York, NY (+1 other)             via LinkedIn  software engineer   \n",
       "4                New York, NY  via Capital One Careers  software engineer   \n",
       "...                       ...                      ...                ...   \n",
       "7333              Atlanta, GA          via TopTechJobs     UI/UX designer   \n",
       "7334              Atlanta, GA             via Jobilize     UI/UX designer   \n",
       "7335              Atlanta, GA         via ZipRecruiter     UI/UX designer   \n",
       "7336              Atlanta, GA           via IHS Markit     UI/UX designer   \n",
       "7337              Atlanta, GA             via NetTemps     UI/UX designer   \n",
       "\n",
       "     location_category                                        description  \\\n",
       "0        new york city  For 95% of programming jobs, the primary focus...   \n",
       "1        new york city  Summary Posted: May 24, 2021  Role Number:2002...   \n",
       "2        new york city  Join a leading fintech company that’s democrat...   \n",
       "3        new york city  Note: By applying to this position you will ha...   \n",
       "4        new york city  Locations: NY - New York, United States of Ame...   \n",
       "...                ...                                                ...   \n",
       "7333   atlanta georgia  You need to be highly collaborative and able t...   \n",
       "7334   atlanta georgia  Welcome to the Anthem Careers site! We have be...   \n",
       "7335   atlanta georgia  Capgemini is a looking for a Senior UI / Creat...   \n",
       "7336   atlanta georgia  Position Summary  As a key player in the digit...   \n",
       "7337   atlanta georgia  Hi, we're Astound. We transform businesses wit...   \n",
       "\n",
       "     schedule_type                                             job_id  \\\n",
       "0        Full-time  eyJqb2JfdGl0bGUiOiJTb2Z0d2FyZSBFbmdpbmVlciAtIE...   \n",
       "1        Full-time  eyJqb2JfdGl0bGUiOiJTb2Z0d2FyZSBFbmdpbmVlciAtIE...   \n",
       "2        Full-time  eyJqb2JfdGl0bGUiOiJTb2Z0d2FyZSBFbmdpbmVlciIsIm...   \n",
       "3        Full-time  eyJqb2JfdGl0bGUiOiJTb2Z0d2FyZSBFbmdpbmVlciBJSU...   \n",
       "4        Full-time  eyJqb2JfdGl0bGUiOiJTb2Z0d2FyZSBFbmdpbmVlciIsIm...   \n",
       "...            ...                                                ...   \n",
       "7333     Full-time  eyJqb2JfdGl0bGUiOiJVWCBEZXNpZ25lci1SZW1vdGUiLC...   \n",
       "7334     Full-time  eyJqb2JfdGl0bGUiOiJVWCBEZXNpZ25lciIsImNvbXBhbn...   \n",
       "7335     Full-time  eyJqb2JfdGl0bGUiOiJTZW5pb3IgVUkgQ3JlYXRpdmUgRG...   \n",
       "7336     Full-time  eyJqb2JfdGl0bGUiOiJTZW5pb3IgVVggRGVzaWduZXIsIE...   \n",
       "7337     Full-time  eyJqb2JfdGl0bGUiOiJMZWFkIFVYIERlc2lnbmVyIC0gUm...   \n",
       "\n",
       "                                        lowercase_title  \\\n",
       "0                        software engineer - all levels   \n",
       "1     software engineer - apple media products, core...   \n",
       "2                                     software engineer   \n",
       "3                                 software engineer iii   \n",
       "4                                     software engineer   \n",
       "...                                                 ...   \n",
       "7333                                 ux designer-remote   \n",
       "7334                                        ux designer   \n",
       "7335                        senior ui creative designer   \n",
       "7336  senior ux designer, digital transformation - r...   \n",
       "7337               lead ux designer - remote within usa   \n",
       "\n",
       "                                  lowercase_description  \n",
       "0     for 95% of programming jobs, the primary focus...  \n",
       "1     summary posted: may 24, 2021  role number:2002...  \n",
       "2     join a leading fintech company that’s democrat...  \n",
       "3     note: by applying to this position you will ha...  \n",
       "4     locations: ny - new york, united states of ame...  \n",
       "...                                                 ...  \n",
       "7333  you need to be highly collaborative and able t...  \n",
       "7334  welcome to the anthem careers site! we have be...  \n",
       "7335  capgemini is a looking for a senior ui / creat...  \n",
       "7336  position summary  as a key player in the digit...  \n",
       "7337  hi, we're astound. we transform businesses wit...  \n",
       "\n",
       "[7338 rows x 11 columns]"
      ]
     },
     "execution_count": 3,
     "metadata": {},
     "output_type": "execute_result"
    }
   ],
   "source": [
    "df_new"
   ]
  },
  {
   "cell_type": "code",
   "execution_count": 4,
   "metadata": {
    "scrolled": false
   },
   "outputs": [
    {
     "name": "stdout",
     "output_type": "stream",
     "text": [
      "<class 'pandas.core.frame.DataFrame'>\n",
      "RangeIndex: 7338 entries, 0 to 7337\n",
      "Data columns (total 11 columns):\n",
      " #   Column                 Non-Null Count  Dtype \n",
      "---  ------                 --------------  ----- \n",
      " 0   title                  7338 non-null   object\n",
      " 1   company_name           7338 non-null   object\n",
      " 2   location               7322 non-null   object\n",
      " 3   via                    7338 non-null   object\n",
      " 4   job_category           7338 non-null   object\n",
      " 5   location_category      7338 non-null   object\n",
      " 6   description            7338 non-null   object\n",
      " 7   schedule_type          7288 non-null   object\n",
      " 8   job_id                 7338 non-null   object\n",
      " 9   lowercase_title        7338 non-null   object\n",
      " 10  lowercase_description  7338 non-null   object\n",
      "dtypes: object(11)\n",
      "memory usage: 315.4+ KB\n"
     ]
    }
   ],
   "source": [
    "df_new.info()"
   ]
  },
  {
   "cell_type": "code",
   "execution_count": 4,
   "metadata": {
    "scrolled": true
   },
   "outputs": [
    {
     "data": {
      "text/plain": [
       "array(['software engineer', 'data analyst', 'web developer',\n",
       "       'data scientist', 'front-end developer', 'back-end developer',\n",
       "       'UI/UX designer'], dtype=object)"
      ]
     },
     "execution_count": 4,
     "metadata": {},
     "output_type": "execute_result"
    }
   ],
   "source": [
    "df_new['job_category'].unique()"
   ]
  },
  {
   "cell_type": "code",
   "execution_count": 17,
   "metadata": {
    "scrolled": true
   },
   "outputs": [
    {
     "data": {
      "text/plain": [
       "array(['new york city', 'newark new jersey', 'los angeles california',\n",
       "       'atlanta georgia'], dtype=object)"
      ]
     },
     "execution_count": 17,
     "metadata": {},
     "output_type": "execute_result"
    }
   ],
   "source": [
    "df_new['location_category'].unique()"
   ]
  },
  {
   "cell_type": "code",
   "execution_count": 4,
   "metadata": {
    "scrolled": false
   },
   "outputs": [
    {
     "data": {
      "text/plain": [
       "array(['Full-time', 'Contractor', 'Internship', nan, 'Full–time',\n",
       "       'Part-time'], dtype=object)"
      ]
     },
     "execution_count": 4,
     "metadata": {},
     "output_type": "execute_result"
    }
   ],
   "source": [
    "df_new['schedule_type'].unique()"
   ]
  },
  {
   "cell_type": "markdown",
   "metadata": {},
   "source": [
    "# Let's do a pie chart of the schedule type of jobs overall"
   ]
  },
  {
   "cell_type": "markdown",
   "metadata": {},
   "source": [
    "### Here I am removing all the null values"
   ]
  },
  {
   "cell_type": "code",
   "execution_count": 5,
   "metadata": {},
   "outputs": [],
   "source": [
    "df_schedule_type = df_new[~df_new['schedule_type'].isna()]\n",
    "\n",
    "#df_schedule_type = df_new[(~df_new['schedule_type'].isna()) & (df_new['job_category'] == 'UI/UX designer')]\n"
   ]
  },
  {
   "cell_type": "code",
   "execution_count": 6,
   "metadata": {
    "scrolled": true
   },
   "outputs": [
    {
     "name": "stdout",
     "output_type": "stream",
     "text": [
      "<class 'pandas.core.frame.DataFrame'>\n",
      "Int64Index: 7288 entries, 0 to 7337\n",
      "Data columns (total 11 columns):\n",
      " #   Column                 Non-Null Count  Dtype \n",
      "---  ------                 --------------  ----- \n",
      " 0   title                  7288 non-null   object\n",
      " 1   company_name           7288 non-null   object\n",
      " 2   location               7273 non-null   object\n",
      " 3   via                    7288 non-null   object\n",
      " 4   job_category           7288 non-null   object\n",
      " 5   location_category      7288 non-null   object\n",
      " 6   description            7288 non-null   object\n",
      " 7   schedule_type          7288 non-null   object\n",
      " 8   job_id                 7288 non-null   object\n",
      " 9   lowercase_title        7288 non-null   object\n",
      " 10  lowercase_description  7288 non-null   object\n",
      "dtypes: object(11)\n",
      "memory usage: 370.1+ KB\n"
     ]
    }
   ],
   "source": [
    "df_schedule_type.info()"
   ]
  },
  {
   "cell_type": "code",
   "execution_count": 7,
   "metadata": {
    "scrolled": false
   },
   "outputs": [
    {
     "name": "stderr",
     "output_type": "stream",
     "text": [
      "<ipython-input-7-cc74a8d310c7>:1: SettingWithCopyWarning: \n",
      "A value is trying to be set on a copy of a slice from a DataFrame.\n",
      "Try using .loc[row_indexer,col_indexer] = value instead\n",
      "\n",
      "See the caveats in the documentation: https://pandas.pydata.org/pandas-docs/stable/user_guide/indexing.html#returning-a-view-versus-a-copy\n",
      "  df_schedule_type['schedule_type'] = df_schedule_type['schedule_type'].replace('Full–time', 'Full-time')\n"
     ]
    }
   ],
   "source": [
    "df_schedule_type['schedule_type'] = df_schedule_type['schedule_type'].replace('Full–time', 'Full-time')"
   ]
  },
  {
   "cell_type": "code",
   "execution_count": 8,
   "metadata": {},
   "outputs": [
    {
     "data": {
      "text/html": [
       "<div>\n",
       "<style scoped>\n",
       "    .dataframe tbody tr th:only-of-type {\n",
       "        vertical-align: middle;\n",
       "    }\n",
       "\n",
       "    .dataframe tbody tr th {\n",
       "        vertical-align: top;\n",
       "    }\n",
       "\n",
       "    .dataframe thead th {\n",
       "        text-align: right;\n",
       "    }\n",
       "</style>\n",
       "<table border=\"1\" class=\"dataframe\">\n",
       "  <thead>\n",
       "    <tr style=\"text-align: right;\">\n",
       "      <th></th>\n",
       "      <th>title</th>\n",
       "      <th>company_name</th>\n",
       "      <th>location</th>\n",
       "      <th>via</th>\n",
       "      <th>job_category</th>\n",
       "      <th>location_category</th>\n",
       "      <th>description</th>\n",
       "      <th>schedule_type</th>\n",
       "      <th>job_id</th>\n",
       "      <th>lowercase_title</th>\n",
       "      <th>lowercase_description</th>\n",
       "    </tr>\n",
       "  </thead>\n",
       "  <tbody>\n",
       "    <tr>\n",
       "      <th>0</th>\n",
       "      <td>Software Engineer - All levels</td>\n",
       "      <td>Bubble</td>\n",
       "      <td>New York, NY</td>\n",
       "      <td>via AngelList</td>\n",
       "      <td>software engineer</td>\n",
       "      <td>new york city</td>\n",
       "      <td>For 95% of programming jobs, the primary focus...</td>\n",
       "      <td>Full-time</td>\n",
       "      <td>eyJqb2JfdGl0bGUiOiJTb2Z0d2FyZSBFbmdpbmVlciAtIE...</td>\n",
       "      <td>software engineer - all levels</td>\n",
       "      <td>for 95% of programming jobs, the primary focus...</td>\n",
       "    </tr>\n",
       "    <tr>\n",
       "      <th>1</th>\n",
       "      <td>Software Engineer - Apple Media Products, Core...</td>\n",
       "      <td>Apple</td>\n",
       "      <td>New York, NY</td>\n",
       "      <td>via Careers At Apple</td>\n",
       "      <td>software engineer</td>\n",
       "      <td>new york city</td>\n",
       "      <td>Summary Posted: May 24, 2021  Role Number:2002...</td>\n",
       "      <td>Full-time</td>\n",
       "      <td>eyJqb2JfdGl0bGUiOiJTb2Z0d2FyZSBFbmdpbmVlciAtIE...</td>\n",
       "      <td>software engineer - apple media products, core...</td>\n",
       "      <td>summary posted: may 24, 2021  role number:2002...</td>\n",
       "    </tr>\n",
       "    <tr>\n",
       "      <th>2</th>\n",
       "      <td>Software Engineer</td>\n",
       "      <td>Robinhood</td>\n",
       "      <td>New York, NY</td>\n",
       "      <td>via LinkedIn</td>\n",
       "      <td>software engineer</td>\n",
       "      <td>new york city</td>\n",
       "      <td>Join a leading fintech company that’s democrat...</td>\n",
       "      <td>Full-time</td>\n",
       "      <td>eyJqb2JfdGl0bGUiOiJTb2Z0d2FyZSBFbmdpbmVlciIsIm...</td>\n",
       "      <td>software engineer</td>\n",
       "      <td>join a leading fintech company that’s democrat...</td>\n",
       "    </tr>\n",
       "    <tr>\n",
       "      <th>3</th>\n",
       "      <td>Software Engineer III</td>\n",
       "      <td>Google</td>\n",
       "      <td>New York, NY (+1 other)</td>\n",
       "      <td>via LinkedIn</td>\n",
       "      <td>software engineer</td>\n",
       "      <td>new york city</td>\n",
       "      <td>Note: By applying to this position you will ha...</td>\n",
       "      <td>Full-time</td>\n",
       "      <td>eyJqb2JfdGl0bGUiOiJTb2Z0d2FyZSBFbmdpbmVlciBJSU...</td>\n",
       "      <td>software engineer iii</td>\n",
       "      <td>note: by applying to this position you will ha...</td>\n",
       "    </tr>\n",
       "    <tr>\n",
       "      <th>4</th>\n",
       "      <td>Software Engineer</td>\n",
       "      <td>Capital One</td>\n",
       "      <td>New York, NY</td>\n",
       "      <td>via Capital One Careers</td>\n",
       "      <td>software engineer</td>\n",
       "      <td>new york city</td>\n",
       "      <td>Locations: NY - New York, United States of Ame...</td>\n",
       "      <td>Full-time</td>\n",
       "      <td>eyJqb2JfdGl0bGUiOiJTb2Z0d2FyZSBFbmdpbmVlciIsIm...</td>\n",
       "      <td>software engineer</td>\n",
       "      <td>locations: ny - new york, united states of ame...</td>\n",
       "    </tr>\n",
       "  </tbody>\n",
       "</table>\n",
       "</div>"
      ],
      "text/plain": [
       "                                               title company_name  \\\n",
       "0                     Software Engineer - All levels       Bubble   \n",
       "1  Software Engineer - Apple Media Products, Core...        Apple   \n",
       "2                                  Software Engineer    Robinhood   \n",
       "3                              Software Engineer III       Google   \n",
       "4                                  Software Engineer  Capital One   \n",
       "\n",
       "                  location                      via       job_category  \\\n",
       "0             New York, NY            via AngelList  software engineer   \n",
       "1             New York, NY     via Careers At Apple  software engineer   \n",
       "2             New York, NY             via LinkedIn  software engineer   \n",
       "3  New York, NY (+1 other)             via LinkedIn  software engineer   \n",
       "4             New York, NY  via Capital One Careers  software engineer   \n",
       "\n",
       "  location_category                                        description  \\\n",
       "0     new york city  For 95% of programming jobs, the primary focus...   \n",
       "1     new york city  Summary Posted: May 24, 2021  Role Number:2002...   \n",
       "2     new york city  Join a leading fintech company that’s democrat...   \n",
       "3     new york city  Note: By applying to this position you will ha...   \n",
       "4     new york city  Locations: NY - New York, United States of Ame...   \n",
       "\n",
       "  schedule_type                                             job_id  \\\n",
       "0     Full-time  eyJqb2JfdGl0bGUiOiJTb2Z0d2FyZSBFbmdpbmVlciAtIE...   \n",
       "1     Full-time  eyJqb2JfdGl0bGUiOiJTb2Z0d2FyZSBFbmdpbmVlciAtIE...   \n",
       "2     Full-time  eyJqb2JfdGl0bGUiOiJTb2Z0d2FyZSBFbmdpbmVlciIsIm...   \n",
       "3     Full-time  eyJqb2JfdGl0bGUiOiJTb2Z0d2FyZSBFbmdpbmVlciBJSU...   \n",
       "4     Full-time  eyJqb2JfdGl0bGUiOiJTb2Z0d2FyZSBFbmdpbmVlciIsIm...   \n",
       "\n",
       "                                     lowercase_title  \\\n",
       "0                     software engineer - all levels   \n",
       "1  software engineer - apple media products, core...   \n",
       "2                                  software engineer   \n",
       "3                              software engineer iii   \n",
       "4                                  software engineer   \n",
       "\n",
       "                               lowercase_description  \n",
       "0  for 95% of programming jobs, the primary focus...  \n",
       "1  summary posted: may 24, 2021  role number:2002...  \n",
       "2  join a leading fintech company that’s democrat...  \n",
       "3  note: by applying to this position you will ha...  \n",
       "4  locations: ny - new york, united states of ame...  "
      ]
     },
     "execution_count": 8,
     "metadata": {},
     "output_type": "execute_result"
    }
   ],
   "source": [
    "df_schedule_type.head()"
   ]
  },
  {
   "cell_type": "code",
   "execution_count": 9,
   "metadata": {},
   "outputs": [
    {
     "data": {
      "text/plain": [
       "array(['Full-time', 'Contractor', 'Internship', 'Part-time'], dtype=object)"
      ]
     },
     "execution_count": 9,
     "metadata": {},
     "output_type": "execute_result"
    }
   ],
   "source": [
    "df_schedule_type['schedule_type'].unique()"
   ]
  },
  {
   "cell_type": "code",
   "execution_count": 17,
   "metadata": {
    "scrolled": true
   },
   "outputs": [],
   "source": [
    "schedule_type = df_schedule_type.groupby(['job_category', 'schedule_type'], as_index=False).count()\n",
    "y1 = schedule_type[schedule_type['schedule_type'] == 'Contractor']\n",
    "y2 = schedule_type[schedule_type['schedule_type'] == 'Internship']['title']\n",
    "y3 = schedule_type[schedule_type['schedule_type'] == 'Part-time']\n",
    "# print(y2)"
   ]
  },
  {
   "cell_type": "code",
   "execution_count": 18,
   "metadata": {},
   "outputs": [
    {
     "data": {
      "text/html": [
       "<div>\n",
       "<style scoped>\n",
       "    .dataframe tbody tr th:only-of-type {\n",
       "        vertical-align: middle;\n",
       "    }\n",
       "\n",
       "    .dataframe tbody tr th {\n",
       "        vertical-align: top;\n",
       "    }\n",
       "\n",
       "    .dataframe thead th {\n",
       "        text-align: right;\n",
       "    }\n",
       "</style>\n",
       "<table border=\"1\" class=\"dataframe\">\n",
       "  <thead>\n",
       "    <tr style=\"text-align: right;\">\n",
       "      <th></th>\n",
       "      <th>job_category</th>\n",
       "      <th>schedule_type</th>\n",
       "      <th>title</th>\n",
       "      <th>company_name</th>\n",
       "      <th>location</th>\n",
       "      <th>via</th>\n",
       "      <th>location_category</th>\n",
       "      <th>description</th>\n",
       "      <th>job_id</th>\n",
       "      <th>lowercase_title</th>\n",
       "      <th>lowercase_description</th>\n",
       "    </tr>\n",
       "  </thead>\n",
       "  <tbody>\n",
       "    <tr>\n",
       "      <th>3</th>\n",
       "      <td>UI/UX designer</td>\n",
       "      <td>Part-time</td>\n",
       "      <td>5</td>\n",
       "      <td>5</td>\n",
       "      <td>5</td>\n",
       "      <td>5</td>\n",
       "      <td>5</td>\n",
       "      <td>5</td>\n",
       "      <td>5</td>\n",
       "      <td>5</td>\n",
       "      <td>5</td>\n",
       "    </tr>\n",
       "    <tr>\n",
       "      <th>7</th>\n",
       "      <td>back-end developer</td>\n",
       "      <td>Part-time</td>\n",
       "      <td>4</td>\n",
       "      <td>4</td>\n",
       "      <td>4</td>\n",
       "      <td>4</td>\n",
       "      <td>4</td>\n",
       "      <td>4</td>\n",
       "      <td>4</td>\n",
       "      <td>4</td>\n",
       "      <td>4</td>\n",
       "    </tr>\n",
       "    <tr>\n",
       "      <th>11</th>\n",
       "      <td>data analyst</td>\n",
       "      <td>Part-time</td>\n",
       "      <td>9</td>\n",
       "      <td>9</td>\n",
       "      <td>9</td>\n",
       "      <td>9</td>\n",
       "      <td>9</td>\n",
       "      <td>9</td>\n",
       "      <td>9</td>\n",
       "      <td>9</td>\n",
       "      <td>9</td>\n",
       "    </tr>\n",
       "    <tr>\n",
       "      <th>15</th>\n",
       "      <td>data scientist</td>\n",
       "      <td>Part-time</td>\n",
       "      <td>3</td>\n",
       "      <td>3</td>\n",
       "      <td>3</td>\n",
       "      <td>3</td>\n",
       "      <td>3</td>\n",
       "      <td>3</td>\n",
       "      <td>3</td>\n",
       "      <td>3</td>\n",
       "      <td>3</td>\n",
       "    </tr>\n",
       "    <tr>\n",
       "      <th>19</th>\n",
       "      <td>front-end developer</td>\n",
       "      <td>Part-time</td>\n",
       "      <td>9</td>\n",
       "      <td>9</td>\n",
       "      <td>9</td>\n",
       "      <td>9</td>\n",
       "      <td>9</td>\n",
       "      <td>9</td>\n",
       "      <td>9</td>\n",
       "      <td>9</td>\n",
       "      <td>9</td>\n",
       "    </tr>\n",
       "    <tr>\n",
       "      <th>26</th>\n",
       "      <td>web developer</td>\n",
       "      <td>Part-time</td>\n",
       "      <td>13</td>\n",
       "      <td>13</td>\n",
       "      <td>13</td>\n",
       "      <td>13</td>\n",
       "      <td>13</td>\n",
       "      <td>13</td>\n",
       "      <td>13</td>\n",
       "      <td>13</td>\n",
       "      <td>13</td>\n",
       "    </tr>\n",
       "  </tbody>\n",
       "</table>\n",
       "</div>"
      ],
      "text/plain": [
       "           job_category schedule_type  title  company_name  location  via  \\\n",
       "3        UI/UX designer     Part-time      5             5         5    5   \n",
       "7    back-end developer     Part-time      4             4         4    4   \n",
       "11         data analyst     Part-time      9             9         9    9   \n",
       "15       data scientist     Part-time      3             3         3    3   \n",
       "19  front-end developer     Part-time      9             9         9    9   \n",
       "26        web developer     Part-time     13            13        13   13   \n",
       "\n",
       "    location_category  description  job_id  lowercase_title  \\\n",
       "3                   5            5       5                5   \n",
       "7                   4            4       4                4   \n",
       "11                  9            9       9                9   \n",
       "15                  3            3       3                3   \n",
       "19                  9            9       9                9   \n",
       "26                 13           13      13               13   \n",
       "\n",
       "    lowercase_description  \n",
       "3                       5  \n",
       "7                       4  \n",
       "11                      9  \n",
       "15                      3  \n",
       "19                      9  \n",
       "26                     13  "
      ]
     },
     "execution_count": 18,
     "metadata": {},
     "output_type": "execute_result"
    }
   ],
   "source": [
    "y3"
   ]
  },
  {
   "cell_type": "code",
   "execution_count": 12,
   "metadata": {},
   "outputs": [
    {
     "data": {
      "text/html": [
       "<div>\n",
       "<style scoped>\n",
       "    .dataframe tbody tr th:only-of-type {\n",
       "        vertical-align: middle;\n",
       "    }\n",
       "\n",
       "    .dataframe tbody tr th {\n",
       "        vertical-align: top;\n",
       "    }\n",
       "\n",
       "    .dataframe thead th {\n",
       "        text-align: right;\n",
       "    }\n",
       "</style>\n",
       "<table border=\"1\" class=\"dataframe\">\n",
       "  <thead>\n",
       "    <tr style=\"text-align: right;\">\n",
       "      <th></th>\n",
       "      <th>job_category</th>\n",
       "      <th>schedule_type</th>\n",
       "      <th>title</th>\n",
       "      <th>company_name</th>\n",
       "      <th>location</th>\n",
       "      <th>via</th>\n",
       "      <th>location_category</th>\n",
       "      <th>description</th>\n",
       "      <th>job_id</th>\n",
       "      <th>lowercase_title</th>\n",
       "      <th>lowercase_description</th>\n",
       "    </tr>\n",
       "  </thead>\n",
       "  <tbody>\n",
       "    <tr>\n",
       "      <th>0</th>\n",
       "      <td>UI/UX designer</td>\n",
       "      <td>Contractor</td>\n",
       "      <td>38</td>\n",
       "      <td>38</td>\n",
       "      <td>38</td>\n",
       "      <td>38</td>\n",
       "      <td>38</td>\n",
       "      <td>38</td>\n",
       "      <td>38</td>\n",
       "      <td>38</td>\n",
       "      <td>38</td>\n",
       "    </tr>\n",
       "    <tr>\n",
       "      <th>1</th>\n",
       "      <td>UI/UX designer</td>\n",
       "      <td>Full-time</td>\n",
       "      <td>751</td>\n",
       "      <td>751</td>\n",
       "      <td>749</td>\n",
       "      <td>751</td>\n",
       "      <td>751</td>\n",
       "      <td>751</td>\n",
       "      <td>751</td>\n",
       "      <td>751</td>\n",
       "      <td>751</td>\n",
       "    </tr>\n",
       "    <tr>\n",
       "      <th>2</th>\n",
       "      <td>UI/UX designer</td>\n",
       "      <td>Internship</td>\n",
       "      <td>6</td>\n",
       "      <td>6</td>\n",
       "      <td>6</td>\n",
       "      <td>6</td>\n",
       "      <td>6</td>\n",
       "      <td>6</td>\n",
       "      <td>6</td>\n",
       "      <td>6</td>\n",
       "      <td>6</td>\n",
       "    </tr>\n",
       "    <tr>\n",
       "      <th>3</th>\n",
       "      <td>UI/UX designer</td>\n",
       "      <td>Part-time</td>\n",
       "      <td>5</td>\n",
       "      <td>5</td>\n",
       "      <td>5</td>\n",
       "      <td>5</td>\n",
       "      <td>5</td>\n",
       "      <td>5</td>\n",
       "      <td>5</td>\n",
       "      <td>5</td>\n",
       "      <td>5</td>\n",
       "    </tr>\n",
       "    <tr>\n",
       "      <th>4</th>\n",
       "      <td>back-end developer</td>\n",
       "      <td>Contractor</td>\n",
       "      <td>31</td>\n",
       "      <td>31</td>\n",
       "      <td>31</td>\n",
       "      <td>31</td>\n",
       "      <td>31</td>\n",
       "      <td>31</td>\n",
       "      <td>31</td>\n",
       "      <td>31</td>\n",
       "      <td>31</td>\n",
       "    </tr>\n",
       "  </tbody>\n",
       "</table>\n",
       "</div>"
      ],
      "text/plain": [
       "         job_category schedule_type  title  company_name  location  via  \\\n",
       "0      UI/UX designer    Contractor     38            38        38   38   \n",
       "1      UI/UX designer     Full-time    751           751       749  751   \n",
       "2      UI/UX designer    Internship      6             6         6    6   \n",
       "3      UI/UX designer     Part-time      5             5         5    5   \n",
       "4  back-end developer    Contractor     31            31        31   31   \n",
       "\n",
       "   location_category  description  job_id  lowercase_title  \\\n",
       "0                 38           38      38               38   \n",
       "1                751          751     751              751   \n",
       "2                  6            6       6                6   \n",
       "3                  5            5       5                5   \n",
       "4                 31           31      31               31   \n",
       "\n",
       "   lowercase_description  \n",
       "0                     38  \n",
       "1                    751  \n",
       "2                      6  \n",
       "3                      5  \n",
       "4                     31  "
      ]
     },
     "execution_count": 12,
     "metadata": {},
     "output_type": "execute_result"
    }
   ],
   "source": [
    "schedule_type.head()"
   ]
  },
  {
   "cell_type": "markdown",
   "metadata": {},
   "source": [
    "### Note: software engineer does not have a part time schedule type in their roles, so it might give us an error "
   ]
  },
  {
   "cell_type": "code",
   "execution_count": 13,
   "metadata": {},
   "outputs": [
    {
     "data": {
      "image/png": "[encoded data removed]",
      "text/plain": [
       "<Figure size 1440x360 with 1 Axes>"
      ]
     },
     "metadata": {
      "needs_background": "light"
     },
     "output_type": "display_data"
    }
   ],
   "source": [
    "fig, axes = plt.subplots(figsize=(20,5))\n",
    "x = schedule_type[schedule_type['schedule_type'] == 'Contractor']['job_category'] \n",
    "y1 = schedule_type[schedule_type['schedule_type'] == 'Contractor']['title']\n",
    "y2 =  schedule_type[schedule_type['schedule_type'] == 'Internship']['title']\n",
    "labels = schedule_type[schedule_type['schedule_type'] == 'Contractor']['job_category'] \n",
    "\n",
    "m = np.arange(7)\n",
    "width = 0.35\n",
    "axes.bar(m - width/2,y1, label = 'Contractor', width = width, color = 'blue')\n",
    "axes.bar(m + width/2, y2, label = 'internship', width = width, color = 'red')\n",
    "# labels = axes.get_xticklabels()\n",
    "axes.set_xticks(m)\n",
    "axes.set_xticklabels(labels)\n",
    "axes.set(xlabel='Job titles', label='frequency',\\\n",
    "       title=\"Distribution of Schedule Types Across Different Tech Roles\")\n",
    "plt.legend()\n",
    "plt.show()"
   ]
  },
  {
   "cell_type": "code",
   "execution_count": 152,
   "metadata": {
    "scrolled": true
   },
   "outputs": [
    {
     "data": {
      "image/png": "[encoded data removed]",
      "text/plain": [
       "<Figure size 720x720 with 1 Axes>"
      ]
     },
     "metadata": {},
     "output_type": "display_data"
    }
   ],
   "source": [
    "fig, axes = plt.subplots(figsize = (10,10))\n",
    "axes.pie(schedule_type['title'], labels = schedule_type['schedule_type'], explode = (0.6, 0, 0.6, 0.6),\n",
    "        wedgeprops= {\"edgecolor\":\"black\",\n",
    "                     'linewidth': 0.4,\n",
    "                     'antialiased': True})\n",
    "axes.set(title ='The Overall distribution of schedule types')\n",
    "axes.axis('equal')\n",
    "plt.legend() \n",
    "\n",
    "plt.show()"
   ]
  },
  {
   "cell_type": "markdown",
   "metadata": {},
   "source": [
    "Would be great to have a bar graph displaying the number of schedule types per job title\n",
    "x: job titles\n",
    "y: number of job postings\n",
    "\n",
    "  |\n",
    "  | have four graphs \n",
    "  |\n",
    "  |\n",
    "  |_____________________________________________________________________________\n",
    "      software engineer    data analyst    data scientist  ..."
   ]
  },
  {
   "cell_type": "markdown",
   "metadata": {},
   "source": [
    "# Need to create a dictionary with the count of technologies per job title, per city"
   ]
  },
  {
   "cell_type": "markdown",
   "metadata": {},
   "source": [
    "## Let's do all of the jobs in NY"
   ]
  },
  {
   "cell_type": "code",
   "execution_count": 5,
   "metadata": {},
   "outputs": [],
   "source": [
    "def job_postings(job_category, location):\n",
    "    return df_new[(df_new['job_category'] == job_category) & (df_new['location_category'] == location)]"
   ]
  },
  {
   "cell_type": "markdown",
   "metadata": {},
   "source": [
    "### Getting all job postings for each job title"
   ]
  },
  {
   "cell_type": "code",
   "execution_count": 6,
   "metadata": {
    "scrolled": true
   },
   "outputs": [],
   "source": [
    "software_engineer_ny = job_postings('software engineer', 'new york city')\n",
    "data_analyst_ny = job_postings('data analyst', 'new york city')\n",
    "web_developer_ny = job_postings('web developer', 'new york city')\n",
    "data_scientist_ny = job_postings('data scientist', 'new york city')\n",
    "front_end_developer_ny = job_postings('front-end developer', 'new york city')\n",
    "back_end_developer_ny = job_postings('back-end developer', 'new york city')\n",
    "uiux_designer_ny = job_postings('UI/UX designer', 'new york city')"
   ]
  },
  {
   "cell_type": "code",
   "execution_count": null,
   "metadata": {},
   "outputs": [],
   "source": [
    "# software_engineer_ny = df_new[(df_new['job_category'] == 'software engineer') & (df_new['location_category'] == 'new york city')]\n",
    "# software_engineer_ny"
   ]
  },
  {
   "cell_type": "code",
   "execution_count": null,
   "metadata": {
    "scrolled": true
   },
   "outputs": [],
   "source": [
    "# software_engineer_ny['lowercase_description'].values"
   ]
  },
  {
   "cell_type": "code",
   "execution_count": null,
   "metadata": {},
   "outputs": [],
   "source": [
    "all_technologies = ['python', 'ruby', 'scala', 'java', 'javascript', 'html', 'css', 'aws', 'node js',\n",
    "                    'c#', 'c++', 'git', 'github', 'sql', 'mysql', 'postgresql', 'oracle'\n",
    "                   'linux', 'hadoop',  'scala', 'spark', 'nosql', 'rest apis', 'node.js', \n",
    "                   'mongodb', 'docker', 'kubernetes', 'terraform', 'teamcity', 'angular js', 'ides', 'bash'\n",
    "                   'http', 'react', 'angular', 'vue.js', 'apache cassandra', 'cloud services', 'oop', 'funcitonal programming'\n",
    "                   'bsa/aml', 'object-oriented programming', 'ssl certificates', 'version control system',\n",
    "                   'microsoft excel', 'power bi', 'stata', 'sas', 'web intelligence', 'tableau', 'snowflake',\n",
    "                   'redshift', 'looker', 'braze', 'adobe', 'r programming', 'microsoft office', 'airflow', 'databricks', 'etl', \n",
    "                   'machine learning', 'powerpoint', 'matlab', 'apache shark', 'perl', 'statistics', 'matplotlib', 'pandas',\n",
    "                   'numpy', 'ggplot', 'bokeh', 'flask', 'django', 'd3.js', 'scikit-learn', 'tensorflow', 'pytorch', 'nlp',\n",
    "                   'meteor', '.net', 'laravel', 'zend', 'yii', 'php', 'elixir', 'express.js', 'figma']"
   ]
  },
  {
   "cell_type": "code",
   "execution_count": 7,
   "metadata": {},
   "outputs": [],
   "source": [
    "class Jobs:\n",
    "    def __init__(self):\n",
    "        self.tech = {}\n",
    "        \n",
    "    def append_tech(self, series):\n",
    "        all_technologies = ['python', 'ruby', 'scala', 'java', 'javascript', 'html', 'css', 'aws', 'node js',\n",
    "                    'c#', 'c++', 'git', 'github', 'sql', 'mysql', 'postgresql', 'oracle'\n",
    "                   'linux', 'hadoop',  'scala', 'spark', 'nosql', 'rest apis', 'node.js', \n",
    "                   'mongodb', 'docker', 'kubernetes', 'terraform', 'teamcity', 'angular js', 'ides', 'bash'\n",
    "                   'http', 'react', 'angular', 'vue.js', 'apache cassandra', 'cloud services', 'oop', 'funcitonal programming'\n",
    "                   'bsa/aml', 'object-oriented programming', 'ssl certificates', 'version control system',\n",
    "                   'microsoft excel', 'power bi', 'stata', 'sas', 'web intelligence', 'tableau', 'snowflake',\n",
    "                   'redshift', 'looker', 'braze', 'adobe', 'r programming', 'microsoft office', 'airflow', 'databricks', 'etl', \n",
    "                   'machine learning', 'powerpoint', 'matlab', 'apache shark', 'perl', 'statistics', 'matplotlib', 'pandas',\n",
    "                   'numpy', 'ggplot', 'bokeh', 'flask', 'django', 'd3.js', 'scikit-learn', 'tensorflow', 'pytorch', 'nlp',\n",
    "                   'meteor', '.net', 'laravel', 'zend', 'yii', 'php', 'elixir', 'express.js', 'figma']\n",
    "        \n",
    "        #going through each individual string in the job description column\n",
    "        for string in series.values:\n",
    "            for technology in all_technologies:\n",
    "                if technology in string:\n",
    "                    self.tech[technology] = self.tech.get(technology, 0) + 1\n",
    "#                     if tech not in self.tech.keys():\n",
    "#                         self.tech[tech] = 1\n",
    "#                     else:\n",
    "#                         self.tech[tech] += 1\n",
    "\n",
    "                    "
   ]
  },
  {
   "cell_type": "markdown",
   "metadata": {},
   "source": [
    "### Getting the dictionary of techologies for our 7 job titles in NY"
   ]
  },
  {
   "cell_type": "code",
   "execution_count": 8,
   "metadata": {
    "scrolled": true
   },
   "outputs": [
    {
     "data": {
      "text/plain": [
       "{'git': 224,\n",
       " 'adobe': 163,\n",
       " 'java': 51,\n",
       " 'javascript': 51,\n",
       " 'html': 101,\n",
       " 'css': 104,\n",
       " 'scala': 70,\n",
       " 'figma': 153,\n",
       " 'ides': 85,\n",
       " 'react': 22,\n",
       " 'angular': 6,\n",
       " 'machine learning': 11,\n",
       " 'tableau': 9,\n",
       " 'meteor': 1,\n",
       " 'oop': 9,\n",
       " 'python': 4,\n",
       " 'aws': 27,\n",
       " 'c#': 2,\n",
       " 'node.js': 1,\n",
       " 'cloud services': 5,\n",
       " 'github': 5,\n",
       " 'spark': 4,\n",
       " 'perl': 5,\n",
       " '.net': 5,\n",
       " 'angular js': 1,\n",
       " 'statistics': 1,\n",
       " 'power bi': 2,\n",
       " 'sas': 7,\n",
       " 'powerpoint': 5,\n",
       " 'docker': 1,\n",
       " 'microsoft office': 1,\n",
       " 'php': 1}"
      ]
     },
     "execution_count": 8,
     "metadata": {},
     "output_type": "execute_result"
    }
   ],
   "source": [
    "software_engineerny = Jobs()\n",
    "software_engineerny.append_tech(software_engineer_ny['lowercase_description'])\n",
    "software_engineerny.tech\n",
    "\n",
    "data_analystny = Jobs()\n",
    "data_analystny.append_tech(data_analyst_ny['lowercase_description'])\n",
    "data_analystny.tech\n",
    "\n",
    "data_scientistny = Jobs()\n",
    "data_scientistny.append_tech(data_scientist_ny['lowercase_description'])\n",
    "data_scientistny.tech\n",
    "\n",
    "web_developerny = Jobs()\n",
    "web_developerny.append_tech(web_developer_ny['lowercase_description'])\n",
    "web_developerny.tech\n",
    "\n",
    "frontend_developerny = Jobs()\n",
    "frontend_developerny.append_tech(front_end_developer_ny['lowercase_description'])\n",
    "frontend_developerny.tech\n",
    "\n",
    "backend_developerny = Jobs()\n",
    "backend_developerny.append_tech(back_end_developer_ny['lowercase_description'])\n",
    "backend_developerny.tech\n",
    "\n",
    "uiux_designerny = Jobs()\n",
    "uiux_designerny.append_tech(uiux_designer_ny['lowercase_description'])\n",
    "uiux_designerny.tech"
   ]
  },
  {
   "cell_type": "markdown",
   "metadata": {},
   "source": [
    "### Converting all technology dictionaries to dataframes to make graphs"
   ]
  },
  {
   "cell_type": "code",
   "execution_count": 9,
   "metadata": {},
   "outputs": [],
   "source": [
    "tech_software_engineer_ny = pd.DataFrame(list(software_engineerny.tech.items()), columns=['technology', 'frequency'])\n",
    "tech_data_analyst_ny = pd.DataFrame(list(data_analystny.tech.items()), columns=['technology', 'frequency'])\n",
    "tech_data_scientist_ny = pd.DataFrame(list(data_scientistny.tech.items()), columns=['technology', 'frequency'])\n",
    "tech_web_developer_ny = pd.DataFrame(list(web_developerny.tech.items()), columns=['technology', 'frequency'])\n",
    "tech_frontend_developer_ny = pd.DataFrame(list(frontend_developerny.tech.items()), columns=['technology', 'frequency'])\n",
    "tech_backend_developer_ny = pd.DataFrame(list(backend_developerny.tech.items()), columns=['technology', 'frequency'])\n",
    "tech_uiux_developer_ny = pd.DataFrame(list(uiux_designerny.tech.items()), columns=['technology', 'frequency'])"
   ]
  },
  {
   "cell_type": "markdown",
   "metadata": {},
   "source": [
    "#### Getting the top technologies per role in NY"
   ]
  },
  {
   "cell_type": "code",
   "execution_count": 10,
   "metadata": {},
   "outputs": [],
   "source": [
    "top_technologies_se = tech_software_engineer_ny.sort_values(by='frequency', ascending=False).head(10)\n",
    "top_technologies_da = tech_data_analyst_ny.sort_values(by='frequency', ascending=False).head(10)\n",
    "top_technologies_ds = tech_data_scientist_ny.sort_values(by='frequency', ascending=False).head(10)\n",
    "top_technologies_wb = tech_web_developer_ny.sort_values(by='frequency', ascending=False).head(10)\n",
    "top_technologies_frtd = tech_frontend_developer_ny.sort_values(by='frequency', ascending=False).head(10)\n",
    "top_technologies_backd = tech_backend_developer_ny.sort_values(by='frequency', ascending=False).head(10)\n",
    "top_technologies_uiux = tech_uiux_developer_ny.sort_values(by='frequency', ascending=False).head(10)\n"
   ]
  },
  {
   "cell_type": "markdown",
   "metadata": {},
   "source": [
    "### Graph for software engineer role in NY"
   ]
  },
  {
   "cell_type": "code",
   "execution_count": 11,
   "metadata": {
    "scrolled": true
   },
   "outputs": [
    {
     "data": {
      "image/png": "[encoded data removed]",
      "text/plain": [
       "<Figure size 720x360 with 1 Axes>"
      ]
     },
     "metadata": {
      "needs_background": "light"
     },
     "output_type": "display_data"
    }
   ],
   "source": [
    "# x = top_technologies_SE['technology']\n",
    "y = top_technologies_se['frequency']\n",
    "x = ['Scala', 'Java', 'Python', 'AWS', 'SQL', 'Git', 'React', 'JavaScript', 'Kubernetes', 'IDEs']\n",
    "\n",
    "colors = cm.inferno_r(np.linspace(.5, .8, 5))\n",
    "# my_colors = list(islice(cycle(['b', 'r', 'g', 'y', 'k']), None, len(x)))\n",
    "\n",
    "fig, ax = plt.subplots(figsize = (10,5))\n",
    "ax.bar(x,y, color = colors)\n",
    "ax.set(xlabel='technology', ylabel = 'Frequency', title ='The Top Technologies Required by Employers For Software Engineers in NY')\n",
    "plt.xticks(rotation=-45, ha=\"left\", rotation_mode=\"anchor\")\n",
    "\n",
    "plt.show()"
   ]
  },
  {
   "cell_type": "markdown",
   "metadata": {},
   "source": [
    "### Graphing for Data Analyst"
   ]
  },
  {
   "cell_type": "code",
   "execution_count": 12,
   "metadata": {},
   "outputs": [
    {
     "data": {
      "image/png": "[encoded data removed]",
      "text/plain": [
       "<Figure size 720x360 with 1 Axes>"
      ]
     },
     "metadata": {
      "needs_background": "light"
     },
     "output_type": "display_data"
    }
   ],
   "source": [
    "x = top_technologies_da['technology']\n",
    "y = top_technologies_da['frequency']\n",
    "\n",
    "# colors = cm.inferno_r(np.linspace(.5, .8, 5))\n",
    "colors = ['lightcoral', 'b', 'cadetblue', 'turquoise','palegreen','indigo']\n",
    "# my_colors = list(islice(cycle(['b', 'r', 'g', 'y', 'k']), None, len(x)))\n",
    "\n",
    "fig, ax = plt.subplots(figsize = (10,5))\n",
    "ax.bar(x,y, color = colors)\n",
    "ax.set(xlabel='technology', ylabel = 'Frequency', title ='The Top Technologies/Skills Required by Employers For Data Analyst in NY')\n",
    "plt.xticks(rotation=-45, ha=\"left\", rotation_mode=\"anchor\")\n",
    "\n",
    "plt.show()"
   ]
  },
  {
   "cell_type": "markdown",
   "metadata": {},
   "source": [
    "### Graphing technologies for data scientists in NY"
   ]
  },
  {
   "cell_type": "code",
   "execution_count": null,
   "metadata": {
    "scrolled": true
   },
   "outputs": [],
   "source": [
    "x = top_technologies_ds['technology']\n",
    "y = top_technologies_ds['frequency']\n",
    "\n",
    "colors = cm.inferno_r(np.linspace(.2, .8, 5))\n",
    "# colors = ['lightcoral', 'b', 'cadetblue', 'turquoise','palegreen','indigo']\n",
    "# my_colors = list(islice(cycle(['b', 'r', 'g', 'y', 'k']), None, len(x)))\n",
    "\n",
    "fig, ax = plt.subplots(figsize = (10,5))\n",
    "ax.bar(x,y, color = colors)\n",
    "ax.set(xlabel='technology', ylabel = 'Frequency', title ='The Top Technologies/Skills Required by Employers For Data Scientists in NY')\n",
    "plt.xticks(rotation=-45, ha=\"left\", rotation_mode=\"anchor\")\n",
    "\n",
    "plt.show()"
   ]
  },
  {
   "cell_type": "markdown",
   "metadata": {},
   "source": [
    "### Graphing technologies for web developers in NY"
   ]
  },
  {
   "cell_type": "code",
   "execution_count": null,
   "metadata": {
    "scrolled": true
   },
   "outputs": [],
   "source": [
    "x = top_technologies_wb['technology']\n",
    "y = top_technologies_wb['frequency']\n",
    "\n",
    "colors = cm.inferno_r(np.linspace(.167, .8, 10))\n",
    "# colors = ['lightcoral', 'b', 'cadetblue', 'turquoise','palegreen','indigo']\n",
    "# my_colors = list(islice(cycle(['b', 'r', 'g', 'y', 'k']), None, len(x)))\n",
    "\n",
    "fig, ax = plt.subplots(figsize = (10,5))\n",
    "ax.bar(x,y, color = colors)\n",
    "ax.set(xlabel='technology', ylabel = 'Frequency', title ='The Top Technologies/Skills Required by Employers For Web Developers in NY')\n",
    "plt.xticks(rotation=-45, ha=\"left\", rotation_mode=\"anchor\")\n",
    "\n",
    "plt.show()"
   ]
  },
  {
   "cell_type": "markdown",
   "metadata": {},
   "source": [
    "### Making graph for technologies for front end developers in NY "
   ]
  },
  {
   "cell_type": "code",
   "execution_count": null,
   "metadata": {
    "scrolled": true
   },
   "outputs": [],
   "source": [
    "x = top_technologies_frtd['technology']\n",
    "y = top_technologies_frtd['frequency']\n",
    "\n",
    "# colors = cm.inferno_r(np.linspace(.167, .8, 10))\n",
    "colors = ['lightcoral', 'b', 'cadetblue', 'turquoise','palegreen','indigo']\n",
    "# my_colors = list(islice(cycle(['b', 'r', 'g', 'y', 'k']), None, len(x)))\n",
    "\n",
    "fig, ax = plt.subplots(figsize = (10,5))\n",
    "ax.bar(x,y, color = colors)\n",
    "ax.set(xlabel='technology', ylabel = 'Frequency', title ='The Top Technologies/Skills Required by Employers for Front End Developers in NY')\n",
    "plt.xticks(rotation=-45, ha=\"left\", rotation_mode=\"anchor\")\n",
    "\n",
    "plt.show()"
   ]
  },
  {
   "cell_type": "markdown",
   "metadata": {},
   "source": [
    "### Making graph for technologies for back end developers in NY "
   ]
  },
  {
   "cell_type": "code",
   "execution_count": null,
   "metadata": {
    "scrolled": true
   },
   "outputs": [],
   "source": [
    "x = top_technologies_backd['technology']\n",
    "y = top_technologies_backd['frequency']\n",
    "\n",
    "# colors = cm.inferno_r(np.linspace(.167, .8, 10))\n",
    "colors = ['lightcoral', 'b', 'cadetblue', 'turquoise','palegreen','indigo']\n",
    "# my_colors = list(islice(cycle(['b', 'r', 'g', 'y', 'k']), None, len(x)))\n",
    "\n",
    "fig, ax = plt.subplots(figsize = (10,5))\n",
    "ax.bar(x,y, color = colors)\n",
    "ax.set(xlabel='technology', ylabel = 'Frequency', title ='The Top Technologies/Skills Required by Employers for Back End Developers in NY')\n",
    "plt.xticks(rotation=-45, ha=\"left\", rotation_mode=\"anchor\")\n",
    "\n",
    "plt.show()"
   ]
  },
  {
   "cell_type": "markdown",
   "metadata": {},
   "source": [
    "### Making graph for technologies for UI/UX developers in NY "
   ]
  },
  {
   "cell_type": "code",
   "execution_count": null,
   "metadata": {
    "scrolled": true
   },
   "outputs": [],
   "source": [
    "x = top_technologies_uiux['technology']\n",
    "y = top_technologies_uiux['frequency']\n",
    "\n",
    "# colors = cm.inferno_r(np.linspace(.167, .8, 10))\n",
    "colors = ['lightcoral', 'b', 'cadetblue', 'turquoise','palegreen','indigo']\n",
    "# my_colors = list(islice(cycle(['b', 'r', 'g', 'y', 'k']), None, len(x)))\n",
    "\n",
    "fig, ax = plt.subplots(figsize = (10,5))\n",
    "ax.bar(x,y, color = colors)\n",
    "ax.set(xlabel='technology', ylabel = 'Frequency', title ='The Top Technologies/Skills Required by Employers for UI/UX Developers in NY')\n",
    "plt.xticks(rotation=-45, ha=\"left\", rotation_mode=\"anchor\")\n",
    "\n",
    "plt.show()"
   ]
  },
  {
   "cell_type": "markdown",
   "metadata": {},
   "source": [
    "# Making Graphs for Newark, NJ"
   ]
  },
  {
   "cell_type": "markdown",
   "metadata": {},
   "source": [
    "### Getting all job postings for the 7 job titles that we have"
   ]
  },
  {
   "cell_type": "code",
   "execution_count": null,
   "metadata": {},
   "outputs": [],
   "source": [
    "software_engineer_newark = job_postings('software engineer', 'newark new jersey')\n",
    "data_analyst_newark = job_postings('data analyst', 'newark new jersey')\n",
    "web_developer_newark = job_postings('web developer', 'newark new jersey')\n",
    "data_scientist_newark = job_postings('data scientist', 'newark new jersey')\n",
    "front_end_developer_newark = job_postings('front-end developer', 'newark new jersey')\n",
    "back_end_developer_newark = job_postings('back-end developer', 'newark new jersey')\n",
    "uiux_designer_newark = job_postings('UI/UX designer', 'newark new jersey')"
   ]
  },
  {
   "cell_type": "markdown",
   "metadata": {},
   "source": [
    "### Now let's get the dictionary of the technologies per job title in newark nj"
   ]
  },
  {
   "cell_type": "code",
   "execution_count": null,
   "metadata": {},
   "outputs": [],
   "source": [
    "software_engineernewark = Jobs()\n",
    "software_engineernewark.append_tech(software_engineer_newark['lowercase_description'])\n",
    "software_engineernewark.tech\n",
    "\n",
    "data_analystnewark = Jobs()\n",
    "data_analystnewark.append_tech(data_analyst_newark['lowercase_description'])\n",
    "data_analystnewark.tech\n",
    "\n",
    "data_scientistnewark = Jobs()\n",
    "data_scientistnewark.append_tech(data_scientist_newark['lowercase_description'])\n",
    "data_scientistnewark.tech\n",
    "\n",
    "web_developernewark = Jobs()\n",
    "web_developernewark.append_tech(web_developer_newark['lowercase_description'])\n",
    "web_developernewark.tech\n",
    "\n",
    "frontend_developernewark = Jobs()\n",
    "frontend_developernewark.append_tech(front_end_developer_newark['lowercase_description'])\n",
    "frontend_developernewark.tech\n",
    "\n",
    "backend_developernewark = Jobs()\n",
    "backend_developernewark.append_tech(back_end_developer_newark['lowercase_description'])\n",
    "backend_developernewark.tech\n",
    "\n",
    "uiux_designernewark = Jobs()\n",
    "uiux_designernewark.append_tech(uiux_designer_newark['lowercase_description'])\n",
    "uiux_designernewark.tech"
   ]
  },
  {
   "cell_type": "markdown",
   "metadata": {},
   "source": [
    "### Convert technology dictionaries to df"
   ]
  },
  {
   "cell_type": "code",
   "execution_count": null,
   "metadata": {},
   "outputs": [],
   "source": [
    "tech_software_engineer_newark = pd.DataFrame(list(software_engineernewark.tech.items()), columns=['technology', 'frequency'])\n",
    "tech_data_analyst_newark = pd.DataFrame(list(data_analystnewark.tech.items()), columns=['technology', 'frequency'])\n",
    "tech_data_scientist_newark = pd.DataFrame(list(data_scientistnewark.tech.items()), columns=['technology', 'frequency'])\n",
    "tech_web_developer_newark = pd.DataFrame(list(web_developernewark.tech.items()), columns=['technology', 'frequency'])\n",
    "tech_frontend_developer_newark = pd.DataFrame(list(frontend_developernewark.tech.items()), columns=['technology', 'frequency'])\n",
    "tech_backend_developer_newark = pd.DataFrame(list(backend_developernewark.tech.items()), columns=['technology', 'frequency'])\n",
    "tech_uiux_developer_newark = pd.DataFrame(list(uiux_designernewark.tech.items()), columns=['technology', 'frequency'])"
   ]
  },
  {
   "cell_type": "markdown",
   "metadata": {},
   "source": [
    "### Select the top 10 technologies per role"
   ]
  },
  {
   "cell_type": "code",
   "execution_count": null,
   "metadata": {},
   "outputs": [],
   "source": [
    "top_tech_se_newark = tech_software_engineer_newark.sort_values(by='frequency', ascending=False).head(10)\n",
    "top_tech_da_newark = tech_data_analyst_newark.sort_values(by='frequency', ascending=False).head(10)\n",
    "top_tech_ds_newark = tech_data_scientist_newark.sort_values(by='frequency', ascending=False).head(10)\n",
    "top_tech_wb_newark = tech_web_developer_newark.sort_values(by='frequency', ascending=False).head(10)\n",
    "top_tech_frtdev_newark = tech_frontend_developer_newark.sort_values(by='frequency', ascending=False).head(10)\n",
    "top_tech_backdev_newark = tech_backend_developer_newark.sort_values(by='frequency', ascending=False).head(10)\n",
    "top_tech_uiux_newark = tech_uiux_developer_newark.sort_values(by='frequency', ascending=False).head(10)"
   ]
  },
  {
   "cell_type": "markdown",
   "metadata": {},
   "source": [
    "### Graphs for NJ roles"
   ]
  },
  {
   "cell_type": "code",
   "execution_count": null,
   "metadata": {},
   "outputs": [],
   "source": [
    "#---------graph for software engineer-----------------------------\n",
    "\n",
    "x = top_tech_se_newark['technology']\n",
    "y = top_tech_se_newark['frequency']\n",
    "# x = ['Scala', 'Java', 'Python', 'AWS', 'SQL', 'Git', 'React', 'JavaScript', 'Kubernetes', 'IDEs']\n",
    "\n",
    "colors = cm.inferno_r(np.linspace(.5, .8, 5))\n",
    "# my_colors = list(islice(cycle(['b', 'r', 'g', 'y', 'k']), None, len(x)))\n",
    "\n",
    "fig, ax = plt.subplots(figsize = (10,5))\n",
    "ax.bar(x,y, color = colors)\n",
    "ax.set(xlabel='technology', ylabel = 'Frequency', title ='The Top Technologies Required by Employers For Software Engineers in Newark, NJ')\n",
    "plt.xticks(rotation=-45, ha=\"left\", rotation_mode=\"anchor\")\n",
    "\n",
    "#---------graph for data analyst------------------------------\n",
    "\n",
    "x_da = top_tech_da_newark['technology']\n",
    "y_da = top_tech_da_newark['frequency']\n",
    "\n",
    "# colors = cm.inferno_r(np.linspace(.5, .8, 5))\n",
    "colors = ['lightcoral', 'b', 'cadetblue', 'turquoise','palegreen','indigo']\n",
    "# my_colors = list(islice(cycle(['b', 'r', 'g', 'y', 'k']), None, len(x)))\n",
    "\n",
    "fig, ax = plt.subplots(figsize = (10,5))\n",
    "ax.bar(x_da,y_da, color = colors)\n",
    "ax.set(xlabel='technology', ylabel = 'Frequency', title ='The Top Technologies/Skills Required by Employers For Data Analyst in Newark, NJ')\n",
    "plt.xticks(rotation=-45, ha=\"left\", rotation_mode=\"anchor\")\n",
    "\n",
    "\n",
    "#---------graph for data scientist-----------------------------\n",
    "\n",
    "\n",
    "x_ds = top_tech_ds_newark['technology']\n",
    "y_ds = top_tech_ds_newark['frequency']\n",
    "\n",
    "colors = cm.inferno_r(np.linspace(.5, .8, 5))\n",
    "# colors = ['lightcoral', 'b', 'cadetblue', 'turquoise','palegreen','indigo']\n",
    "# my_colors = list(islice(cycle(['b', 'r', 'g', 'y', 'k']), None, len(x)))\n",
    "\n",
    "fig, ax = plt.subplots(figsize = (10,5))\n",
    "ax.bar(x_ds,y_ds, color = colors)\n",
    "ax.set(xlabel='technology', ylabel = 'Frequency', title ='The Top Technologies/Skills Required by Employers For Data Scientist in Newark, NJ')\n",
    "plt.xticks(rotation=-45, ha=\"left\", rotation_mode=\"anchor\")\n",
    "\n",
    "\n",
    "#---------graph for web developer-----------------------------\n",
    "\n",
    "x_wdev = top_tech_wb_newark['technology']\n",
    "y_wdev = top_tech_wb_newark['frequency']\n",
    "\n",
    "colors = cm.inferno_r(np.linspace(.5, .8, 5))\n",
    "# colors = ['lightcoral', 'b', 'cadetblue', 'turquoise','palegreen','indigo']\n",
    "# my_colors = list(islice(cycle(['b', 'r', 'g', 'y', 'k']), None, len(x)))\n",
    "\n",
    "fig, ax = plt.subplots(figsize = (10,5))\n",
    "ax.bar(x_wdev,y_wdev, color = colors)\n",
    "ax.set(xlabel='technology', ylabel = 'Frequency', title ='The Top Technologies/Skills Required by Employers For Web Developer in Newark, NJ')\n",
    "plt.xticks(rotation=-45, ha=\"left\", rotation_mode=\"anchor\")\n",
    "\n",
    "#---------graph for front end developer-----------------------------\n",
    "\n",
    "x_frtdev = top_tech_frtdev_newark['technology']\n",
    "y_frtdev = top_tech_frtdev_newark['frequency']\n",
    "\n",
    "colors = cm.inferno_r(np.linspace(.5, .8, 5))\n",
    "# colors = ['lightcoral', 'b', 'cadetblue', 'turquoise','palegreen','indigo']\n",
    "# my_colors = list(islice(cycle(['b', 'r', 'g', 'y', 'k']), None, len(x)))\n",
    "\n",
    "fig, ax = plt.subplots(figsize = (10,5))\n",
    "ax.bar(x_frtdev,y_frtdev, color = colors)\n",
    "ax.set(xlabel='technology', ylabel = 'Frequency', title ='The Top Technologies/Skills Required by Employers for front end developers in Newark, NJ')\n",
    "plt.xticks(rotation=-45, ha=\"left\", rotation_mode=\"anchor\")\n",
    "\n",
    "\n",
    "#---------graph for backend developer-----------------------------\n",
    "\n",
    "x_backdev = top_tech_backdev_newark['technology']\n",
    "y_backdev = top_tech_backdev_newark['frequency']\n",
    "\n",
    "colors = cm.inferno_r(np.linspace(.5, .8, 5))\n",
    "# colors = ['lightcoral', 'b', 'cadetblue', 'turquoise','palegreen','indigo']\n",
    "# my_colors = list(islice(cycle(['b', 'r', 'g', 'y', 'k']), None, len(x)))\n",
    "\n",
    "fig, ax = plt.subplots(figsize = (10,5))\n",
    "ax.bar(x_backdev,y_backdev, color = colors)\n",
    "ax.set(xlabel='technology', ylabel = 'Frequency', title ='The Top Technologies/Skills Required by Employers for Back End developers in Newark, NJ')\n",
    "plt.xticks(rotation=-45, ha=\"left\", rotation_mode=\"anchor\")\n",
    "\n",
    "#---------graph for uiux designer-----------------------------\n",
    "top_tech_uiux_newark \n",
    "\n",
    "x_uiux = top_tech_uiux_newark['technology']\n",
    "y_uiux = top_tech_uiux_newark['frequency']\n",
    "\n",
    "# colors = cm.inferno_r(np.linspace(.5, .8, 5))\n",
    "# colors = ['lightcoral', 'b', 'cadetblue', 'turquoise','palegreen','indigo']\n",
    "my_colors = list(islice(cycle(['b', 'r', 'g', 'y', 'k']), None, len(x)))\n",
    "\n",
    "fig, ax = plt.subplots(figsize = (10,5))\n",
    "ax.bar(x_uiux,y_uiux, color = colors)\n",
    "ax.set(xlabel='technology', ylabel = 'Frequency', title ='The Top Technologies/Skills Required by Employers for UI/UX designers in Newark, NJ')\n",
    "plt.xticks(rotation=-45, ha=\"left\", rotation_mode=\"anchor\")\n",
    "\n",
    "\n",
    "plt.show()"
   ]
  },
  {
   "cell_type": "code",
   "execution_count": null,
   "metadata": {},
   "outputs": [],
   "source": []
  },
  {
   "cell_type": "code",
   "execution_count": null,
   "metadata": {},
   "outputs": [],
   "source": []
  },
  {
   "cell_type": "code",
   "execution_count": null,
   "metadata": {},
   "outputs": [],
   "source": []
  },
  {
   "cell_type": "code",
   "execution_count": null,
   "metadata": {},
   "outputs": [],
   "source": []
  },
  {
   "cell_type": "code",
   "execution_count": null,
   "metadata": {},
   "outputs": [],
   "source": []
  },
  {
   "cell_type": "code",
   "execution_count": null,
   "metadata": {},
   "outputs": [],
   "source": []
  },
  {
   "cell_type": "markdown",
   "metadata": {},
   "source": [
    "#### brainstorming how we were going to take the frequency of the technologies in each description"
   ]
  },
  {
   "cell_type": "code",
   "execution_count": null,
   "metadata": {},
   "outputs": [],
   "source": [
    "description = 'css, and another language to know is python, python, python, ruby, and scala'\n",
    "all_technologies =['python', 'ruby', 'scala']\n",
    "\n",
    "#check dictionary per role per city\n",
    "tech = {}\n",
    "for item in all_technologies:\n",
    "    if item in description:\n",
    "        print(f'{item} is here')\n",
    "        tech[item] = tech.get(item, 0)+1\n",
    "#         if item not in tech.keys():\n",
    "#             tech[item] = 1\n",
    "#         else:\n",
    "#             tech[item] += 1\n",
    "print(tech)"
   ]
  },
  {
   "cell_type": "code",
   "execution_count": null,
   "metadata": {},
   "outputs": [],
   "source": [
    "#filtering  by city and job title\n",
    "\n",
    "d = {}\n",
    "\n",
    "\n",
    "class Jobs:\n",
    "    techs = ['c#', 'Java']\n",
    "    cities = ['new york', 'atlanta']\n",
    "    \n",
    "    def __init__(data):\n",
    "        self.data = {\n",
    "            x\n",
    "        }"
   ]
  },
  {
   "cell_type": "code",
   "execution_count": 15,
   "metadata": {},
   "outputs": [
    {
     "name": "stdout",
     "output_type": "stream",
     "text": [
      "{'C#': {}, 'Java': {}}\n",
      "{'new york': {'C#': {}, 'Java': {}}, 'atlanta': {'C#': {}, 'Java': {}}}\n"
     ]
    }
   ],
   "source": [
    "class Jobs:\n",
    "    all_technologies = ['python', 'ruby', 'scala', 'java', 'javascript', 'html', 'css', 'aws', 'node js',\n",
    "                'c#', 'c++', 'git', 'github', 'sql', 'mysql', 'postgresql', 'oracle'\n",
    "               'linux', 'hadoop',  'scala', 'spark', 'nosql', 'rest apis', 'node.js', \n",
    "               'mongodb', 'docker', 'kubernetes', 'terraform', 'teamcity', 'angular js', 'ides', 'bash'\n",
    "               'http', 'react', 'angular', 'vue.js', 'apache cassandra', 'cloud services', 'oop', 'funcitonal programming'\n",
    "               'bsa/aml', 'object-oriented programming', 'ssl certificates', 'version control system',\n",
    "               'microsoft excel', 'power bi', 'stata', 'sas', 'web intelligence', 'tableau', 'snowflake',\n",
    "               'redshift', 'looker', 'braze', 'adobe', 'r programming', 'microsoft office', 'airflow', 'databricks', 'etl', \n",
    "               'machine learning', 'powerpoint', 'matlab', 'apache shark', 'perl', 'statistics', 'matplotlib', 'pandas',\n",
    "               'numpy', 'ggplot', 'bokeh', 'flask', 'django', 'd3.js', 'scikit-learn', 'tensorflow', 'pytorch', 'nlp',\n",
    "               'meteor', '.net', 'laravel', 'zend', 'yii', 'php', 'elixir', 'express.js', 'figma']\n",
    "    cities = [\n",
    "        'new york city', \n",
    "        'newark new jersey', \n",
    "        'los angeles california',\n",
    "        'atlanta georgia'\n",
    "    ]\n",
    "    \n",
    "    def __init__(self, data):\n",
    "        # self.data = data\n",
    "        self.data = {}\n",
    "        for city in Jobs.cities:\n",
    "            self.data[city] = {}\n",
    "            for tech in Jobs.techs:\n",
    "                self.data[city][tech] = {}\n",
    "        \n",
    "    def get_data(self, city):\n",
    "        return self.data[city]\n",
    "    \n",
    "j = Jobs(\"\")\n",
    "print(j.get_data(\"new york\"))     \n",
    "print(j.data)"
   ]
  },
  {
   "cell_type": "code",
   "execution_count": null,
   "metadata": {},
   "outputs": [],
   "source": [
    "class Jobs:\n",
    "    def __init__(self):\n",
    "        self.tech = {}\n",
    "        \n",
    "    def append_tech(self, series):\n",
    "        all_technologies = ['python', 'ruby', 'scala', 'java', 'javascript', 'html', 'css', 'aws', 'node js',\n",
    "                    'c#', 'c++', 'git', 'github', 'sql', 'mysql', 'postgresql', 'oracle'\n",
    "                   'linux', 'hadoop',  'scala', 'spark', 'nosql', 'rest apis', 'node.js', \n",
    "                   'mongodb', 'docker', 'kubernetes', 'terraform', 'teamcity', 'angular js', 'ides', 'bash'\n",
    "                   'http', 'react', 'angular', 'vue.js', 'apache cassandra', 'cloud services', 'oop', 'funcitonal programming'\n",
    "                   'bsa/aml', 'object-oriented programming', 'ssl certificates', 'version control system',\n",
    "                   'microsoft excel', 'power bi', 'stata', 'sas', 'web intelligence', 'tableau', 'snowflake',\n",
    "                   'redshift', 'looker', 'braze', 'adobe', 'r programming', 'microsoft office', 'airflow', 'databricks', 'etl', \n",
    "                   'machine learning', 'powerpoint', 'matlab', 'apache shark', 'perl', 'statistics', 'matplotlib', 'pandas',\n",
    "                   'numpy', 'ggplot', 'bokeh', 'flask', 'django', 'd3.js', 'scikit-learn', 'tensorflow', 'pytorch', 'nlp',\n",
    "                   'meteor', '.net', 'laravel', 'zend', 'yii', 'php', 'elixir', 'express.js', 'figma']\n",
    "        \n",
    "        #going through each individual string in the job description column\n",
    "        for string in series.values:\n",
    "            for technology in all_technologies:\n",
    "                if technology in string:\n",
    "                    self.tech[technology] = self.tech.get(technology, 0) + 1            "
   ]
  },
  {
   "cell_type": "code",
   "execution_count": null,
   "metadata": {},
   "outputs": [],
   "source": [
    "array(['new york city', 'newark new jersey', 'los angeles california',\n",
    "       'atlanta georgia'], dtype=object)"
   ]
  }
 ],
 "metadata": {
  "kernelspec": {
   "display_name": "Python 3",
   "language": "python",
   "name": "python3"
  },
  "language_info": {
   "codemirror_mode": {
    "name": "ipython",
    "version": 3
   },
   "file_extension": ".py",
   "mimetype": "text/x-python",
   "name": "python",
   "nbconvert_exporter": "python",
   "pygments_lexer": "ipython3",
   "version": "3.8.5"
  }
 },
 "nbformat": 4,
 "nbformat_minor": 4
}
