{
 "cells": [
  {
   "cell_type": "code",
   "execution_count": 1,
   "metadata": {},
   "outputs": [],
   "source": [
    "import pandas as pd"
   ]
  },
  {
   "cell_type": "code",
   "execution_count": 2,
   "metadata": {},
   "outputs": [],
   "source": [
    "pd.set_option('display.max_rows', None)"
   ]
  },
  {
   "cell_type": "code",
   "execution_count": 3,
   "metadata": {},
   "outputs": [],
   "source": [
    "data = pd.read_csv(\"updated_employment_data.csv\")"
   ]
  },
  {
   "cell_type": "code",
   "execution_count": 4,
   "metadata": {},
   "outputs": [
    {
     "data": {
      "text/html": [
       "<div>\n",
       "<style scoped>\n",
       "    .dataframe tbody tr th:only-of-type {\n",
       "        vertical-align: middle;\n",
       "    }\n",
       "\n",
       "    .dataframe tbody tr th {\n",
       "        vertical-align: top;\n",
       "    }\n",
       "\n",
       "    .dataframe thead th {\n",
       "        text-align: right;\n",
       "    }\n",
       "</style>\n",
       "<table border=\"1\" class=\"dataframe\">\n",
       "  <thead>\n",
       "    <tr style=\"text-align: right;\">\n",
       "      <th></th>\n",
       "      <th>title</th>\n",
       "      <th>company_name</th>\n",
       "      <th>location</th>\n",
       "      <th>via</th>\n",
       "      <th>description</th>\n",
       "      <th>schedule_type</th>\n",
       "      <th>job_id</th>\n",
       "    </tr>\n",
       "  </thead>\n",
       "  <tbody>\n",
       "    <tr>\n",
       "      <th>9087</th>\n",
       "      <td>UX Designer</td>\n",
       "      <td>Progress Software Corporation</td>\n",
       "      <td>Alpharetta, GA</td>\n",
       "      <td>via Lensa</td>\n",
       "      <td>UX Designer  Interaction Design/ User Experien...</td>\n",
       "      <td>Full-time</td>\n",
       "      <td>eyJqb2JfdGl0bGUiOiJVWCBEZXNpZ25lciIsImNvbXBhbn...</td>\n",
       "    </tr>\n",
       "    <tr>\n",
       "      <th>9088</th>\n",
       "      <td>Digital UX Product Designer</td>\n",
       "      <td>Airbus Americas</td>\n",
       "      <td>Atlanta, GA</td>\n",
       "      <td>via Lensa</td>\n",
       "      <td>Airbus is an international pioneer in the aero...</td>\n",
       "      <td>Full-time</td>\n",
       "      <td>eyJqb2JfdGl0bGUiOiJEaWdpdGFsIFVYIFByb2R1Y3QgRG...</td>\n",
       "    </tr>\n",
       "    <tr>\n",
       "      <th>9089</th>\n",
       "      <td>Senior User Experience (UX-UI) Designer</td>\n",
       "      <td>UnitedHealth Group</td>\n",
       "      <td>Atlanta, GA</td>\n",
       "      <td>via Jobrapido.com</td>\n",
       "      <td>You can be a better guide than any map or navi...</td>\n",
       "      <td>Full-time</td>\n",
       "      <td>eyJqb2JfdGl0bGUiOiJTZW5pb3IgVXNlciBFeHBlcmllbm...</td>\n",
       "    </tr>\n",
       "    <tr>\n",
       "      <th>9090</th>\n",
       "      <td>UX Designer - hourly</td>\n",
       "      <td>Primerica Life Insurance</td>\n",
       "      <td>Duluth, GA</td>\n",
       "      <td>via Lensa</td>\n",
       "      <td>Join Our Team  Our Company headquarters is loc...</td>\n",
       "      <td>Full-time</td>\n",
       "      <td>eyJqb2JfdGl0bGUiOiJVWCBEZXNpZ25lciAtIGhvdXJseS...</td>\n",
       "    </tr>\n",
       "    <tr>\n",
       "      <th>9091</th>\n",
       "      <td>Senior UI/UX Designer - BHJOB2052_17637</td>\n",
       "      <td>Visionaire Partners</td>\n",
       "      <td>Atlanta, GA (+1 other)</td>\n",
       "      <td>via Nexxt</td>\n",
       "      <td>Senior UIUX Designer We have an immediate need...</td>\n",
       "      <td>Contractor</td>\n",
       "      <td>eyJqb2JfdGl0bGUiOiJTZW5pb3IgVUkvVVggRGVzaWduZX...</td>\n",
       "    </tr>\n",
       "    <tr>\n",
       "      <th>9092</th>\n",
       "      <td>Senior UX Designer, Senior Consultant</td>\n",
       "      <td>Guidehouse</td>\n",
       "      <td>Atlanta, GA</td>\n",
       "      <td>via Lensa</td>\n",
       "      <td>Overview  Guidehouse is a leading management c...</td>\n",
       "      <td>Full-time</td>\n",
       "      <td>eyJqb2JfdGl0bGUiOiJTZW5pb3IgVVggRGVzaWduZXIsIF...</td>\n",
       "    </tr>\n",
       "    <tr>\n",
       "      <th>9093</th>\n",
       "      <td>Sr. UI Designer GPS</td>\n",
       "      <td>Deloitte</td>\n",
       "      <td>Atlanta, GA (+1 other)</td>\n",
       "      <td>via Lensa</td>\n",
       "      <td>Sr. UI Designer - USDC Sr. Solution Specialist...</td>\n",
       "      <td>Full-time</td>\n",
       "      <td>eyJqb2JfdGl0bGUiOiJTci4gVUkgRGVzaWduZXIgR1BTIi...</td>\n",
       "    </tr>\n",
       "    <tr>\n",
       "      <th>9094</th>\n",
       "      <td>UX Designer</td>\n",
       "      <td>The Judge Group Inc.</td>\n",
       "      <td>Atlanta, GA</td>\n",
       "      <td>via Lensa</td>\n",
       "      <td>Location:  REMOTE Description: Remote Opportun...</td>\n",
       "      <td>Full-time</td>\n",
       "      <td>eyJqb2JfdGl0bGUiOiJVWCBEZXNpZ25lciIsImNvbXBhbn...</td>\n",
       "    </tr>\n",
       "    <tr>\n",
       "      <th>9095</th>\n",
       "      <td>UI/UX Designer</td>\n",
       "      <td>Randstad Technologies</td>\n",
       "      <td>Atlanta, GA</td>\n",
       "      <td>via Nexxt</td>\n",
       "      <td>Job Description  The UX Designer position requ...</td>\n",
       "      <td>Full-time</td>\n",
       "      <td>eyJqb2JfdGl0bGUiOiJVSS9VWCBEZXNpZ25lciIsImNvbX...</td>\n",
       "    </tr>\n",
       "    <tr>\n",
       "      <th>9096</th>\n",
       "      <td>Sr UX Lead</td>\n",
       "      <td>Linbar Solutions, Inc.</td>\n",
       "      <td>Atlanta, GA</td>\n",
       "      <td>via Lensa</td>\n",
       "      <td>If you have interest in this position please s...</td>\n",
       "      <td>Full-time</td>\n",
       "      <td>eyJqb2JfdGl0bGUiOiJTciBVWCBMZWFkIiwiY29tcGFueV...</td>\n",
       "    </tr>\n",
       "  </tbody>\n",
       "</table>\n",
       "</div>"
      ],
      "text/plain": [
       "                                        title                   company_name  \\\n",
       "9087                              UX Designer  Progress Software Corporation   \n",
       "9088              Digital UX Product Designer                Airbus Americas   \n",
       "9089  Senior User Experience (UX-UI) Designer             UnitedHealth Group   \n",
       "9090                     UX Designer - hourly       Primerica Life Insurance   \n",
       "9091  Senior UI/UX Designer - BHJOB2052_17637            Visionaire Partners   \n",
       "9092    Senior UX Designer, Senior Consultant                     Guidehouse   \n",
       "9093                      Sr. UI Designer GPS                       Deloitte   \n",
       "9094                              UX Designer           The Judge Group Inc.   \n",
       "9095                           UI/UX Designer          Randstad Technologies   \n",
       "9096                               Sr UX Lead         Linbar Solutions, Inc.   \n",
       "\n",
       "                    location                via  \\\n",
       "9087          Alpharetta, GA          via Lensa   \n",
       "9088             Atlanta, GA          via Lensa   \n",
       "9089             Atlanta, GA  via Jobrapido.com   \n",
       "9090              Duluth, GA          via Lensa   \n",
       "9091  Atlanta, GA (+1 other)          via Nexxt   \n",
       "9092             Atlanta, GA          via Lensa   \n",
       "9093  Atlanta, GA (+1 other)          via Lensa   \n",
       "9094             Atlanta, GA          via Lensa   \n",
       "9095             Atlanta, GA          via Nexxt   \n",
       "9096             Atlanta, GA          via Lensa   \n",
       "\n",
       "                                            description schedule_type  \\\n",
       "9087  UX Designer  Interaction Design/ User Experien...     Full-time   \n",
       "9088  Airbus is an international pioneer in the aero...     Full-time   \n",
       "9089  You can be a better guide than any map or navi...     Full-time   \n",
       "9090  Join Our Team  Our Company headquarters is loc...     Full-time   \n",
       "9091  Senior UIUX Designer We have an immediate need...    Contractor   \n",
       "9092  Overview  Guidehouse is a leading management c...     Full-time   \n",
       "9093  Sr. UI Designer - USDC Sr. Solution Specialist...     Full-time   \n",
       "9094  Location:  REMOTE Description: Remote Opportun...     Full-time   \n",
       "9095  Job Description  The UX Designer position requ...     Full-time   \n",
       "9096  If you have interest in this position please s...     Full-time   \n",
       "\n",
       "                                                 job_id  \n",
       "9087  eyJqb2JfdGl0bGUiOiJVWCBEZXNpZ25lciIsImNvbXBhbn...  \n",
       "9088  eyJqb2JfdGl0bGUiOiJEaWdpdGFsIFVYIFByb2R1Y3QgRG...  \n",
       "9089  eyJqb2JfdGl0bGUiOiJTZW5pb3IgVXNlciBFeHBlcmllbm...  \n",
       "9090  eyJqb2JfdGl0bGUiOiJVWCBEZXNpZ25lciAtIGhvdXJseS...  \n",
       "9091  eyJqb2JfdGl0bGUiOiJTZW5pb3IgVUkvVVggRGVzaWduZX...  \n",
       "9092  eyJqb2JfdGl0bGUiOiJTZW5pb3IgVVggRGVzaWduZXIsIF...  \n",
       "9093  eyJqb2JfdGl0bGUiOiJTci4gVUkgRGVzaWduZXIgR1BTIi...  \n",
       "9094  eyJqb2JfdGl0bGUiOiJVWCBEZXNpZ25lciIsImNvbXBhbn...  \n",
       "9095  eyJqb2JfdGl0bGUiOiJVSS9VWCBEZXNpZ25lciIsImNvbX...  \n",
       "9096  eyJqb2JfdGl0bGUiOiJTciBVWCBMZWFkIiwiY29tcGFueV...  "
      ]
     },
     "execution_count": 4,
     "metadata": {},
     "output_type": "execute_result"
    }
   ],
   "source": [
    "data.tail(10)"
   ]
  },
  {
   "cell_type": "code",
   "execution_count": 5,
   "metadata": {},
   "outputs": [
    {
     "name": "stdout",
     "output_type": "stream",
     "text": [
      "<class 'pandas.core.frame.DataFrame'>\n",
      "RangeIndex: 9097 entries, 0 to 9096\n",
      "Data columns (total 7 columns):\n",
      " #   Column         Non-Null Count  Dtype \n",
      "---  ------         --------------  ----- \n",
      " 0   title          9097 non-null   object\n",
      " 1   company_name   9096 non-null   object\n",
      " 2   location       9056 non-null   object\n",
      " 3   via            9097 non-null   object\n",
      " 4   description    9097 non-null   object\n",
      " 5   schedule_type  9027 non-null   object\n",
      " 6   job_id         9097 non-null   object\n",
      "dtypes: object(7)\n",
      "memory usage: 497.6+ KB\n"
     ]
    }
   ],
   "source": [
    "data.info()"
   ]
  },
  {
   "cell_type": "code",
   "execution_count": 6,
   "metadata": {},
   "outputs": [
    {
     "data": {
      "text/plain": [
       "array(['New York, NY', 'New York, NY (+1 other)', 'Anywhere',\n",
       "       'New York, NY (+3 others)', 'New York, NY, USA',\n",
       "       'New York, NY, USA (+1 other)', 'United States', 'Newark, NJ',\n",
       "       'Newark, NJ (+1 other)', 'Jersey City, NJ (+1 other)',\n",
       "       'Summit, NJ', 'Los Angeles, CA', 'Los Angeles, CA (+1 other)',\n",
       "       'Venice, CA (+1 other)', 'Los Angeles, CA, USA',\n",
       "       'Los Angeles, CA, USA (+1 other)',\n",
       "       'Los Angeles, CA, United States (+1 other)', 'Marina Del Rey, CA',\n",
       "       'Playa Vista, CA (+1 other)', 'Atlanta, GA',\n",
       "       'Atlanta, GA (+1 other)', 'Atlanta, GA (+2 others)',\n",
       "       'Atlanta, GA, USA', 'Atlanta, GA, United States (+1 other)',\n",
       "       'Atlanta, GA, USA (+2 others)', 'Brooklyn, NY (+1 other)', nan,\n",
       "       'Newark, NJ, USA', 'Newark, NJ, USA (+1 other)',\n",
       "       'Los Angeles, CA (+2 others)', 'Culver City, CA (+1 other)',\n",
       "       'Agoura Hills, CA', 'Santa Monica, CA (+1 other)',\n",
       "       'Atlanta, GA (+4 others)', 'Brooklyn, NY',\n",
       "       'Jersey City, NJ (+3 others)', 'Jersey City, NJ, USA (+1 other)',\n",
       "       'Garfield, NJ, USA', 'Playa Vista, CA, United States (+1 other)',\n",
       "       'Pasadena, CA, USA', 'El Segundo, CA', 'Culver City, CA, USA',\n",
       "       'Atlanta, GA, USA (+1 other)', 'Atlanta, GA, United States',\n",
       "       'New York, NY, United States',\n",
       "       'New York, NY, United States (+1 other)',\n",
       "       'Brooklyn, NY, United States (+1 other)',\n",
       "       'New York, NY, USA (+5 others)', 'El Segundo, CA (+1 other)',\n",
       "       'Los Angeles, CA (+3 others)', 'Encino, CA (+1 other)',\n",
       "       'Jersey City, NJ', 'New York, NY (+5 others)', 'Lake Success, NY',\n",
       "       'New York, NY (+4 others)',\n",
       "       'Santa Monica, CA, United States (+1 other)',\n",
       "       'East Los Angeles, CA', 'New York, NY, USA (+3 others)',\n",
       "       'New York, NY (+2 others)', 'Arverne, NY', 'Culver City, CA',\n",
       "       'West Hollywood, CA (+1 other)', 'Santa Monica, CA, USA',\n",
       "       'Marina Del Rey, CA (+1 other)', 'Santa Monica, CA',\n",
       "       'Atlanta, GA (+7 others)', 'Atlanta, GA, USA (+7 others)',\n",
       "       'Atlanta, GA, USA (+4 others)', 'Alpharetta, GA (+1 other)',\n",
       "       'Secaucus, NJ', ' (+1 other)', 'Jamaica, NY', 'North Hills, NY',\n",
       "       'United States (+1 other)', 'White Plains, NY, USA',\n",
       "       'Queens, NY, USA', 'New York, NY, USA (+2 others)', 'Yonkers, NY',\n",
       "       'New City, NY', 'Edison, NJ (+1 other)',\n",
       "       'Piscataway, NJ (+1 other)', 'South Plainfield, NJ (+1 other)',\n",
       "       'South Plainfield, NJ', 'Elizabeth, NJ', 'Irvine, CA (+1 other)',\n",
       "       'California', 'Irvine, CA', 'Johns Creek, GA', 'Duluth, GA',\n",
       "       'White Plains, NY', 'Tarrytown, NY (+1 other)', 'Tarrytown, NY',\n",
       "       'Sparkill, NY', 'Brooklyn, NY (+3 others)', 'Floral Park, NY',\n",
       "       'Queens, NY', 'Syosset, NY (+1 other)',\n",
       "       'Parsippany-Troy Hills, NJ', 'Holmdel, NJ (+1 other)',\n",
       "       'Perth Amboy, NJ', 'Uniondale, NY', 'Stamford, CT',\n",
       "       'West Orange, NJ', 'Burbank, CA', 'Maywood, CA', 'Pasadena, CA',\n",
       "       'Anaheim, CA', 'Pasadena, CA (+1 other)',\n",
       "       'Long Beach, CA (+1 other)', 'Vernon, CA', 'Irwindale, CA',\n",
       "       'Glendale, CA', 'Hapeville, GA', 'Marietta, GA (+1 other)',\n",
       "       'Norcross, GA', 'Peachtree City, GA (+1 other)', 'Alpharetta, GA',\n",
       "       'Jersey City, NJ, USA', 'Melville, NY', 'New Brunswick, NJ',\n",
       "       'Madison, NJ', 'Ossining, NY', 'Montvale, NJ (+1 other)',\n",
       "       'Wall Township, NJ', 'Ridgefield Park, NJ, USA',\n",
       "       'Englewood Cliffs, NJ, USA', 'Morristown, NJ, USA',\n",
       "       'Morristown, NJ', 'Jersey City, NJ, USA (+3 others)',\n",
       "       'Irvine, CA, USA', 'Azusa, CA, USA (+1 other)', 'Walnut, CA, USA',\n",
       "       'Anaheim, CA (+1 other)', 'Universal City, CA',\n",
       "       'Duluth, GA, USA (+1 other)', 'Duluth, GA (+1 other)',\n",
       "       'Alpharetta, GA, USA', 'Duluth, GA, USA',\n",
       "       'Kennesaw, GA, United States (+1 other)', 'Kennesaw, GA',\n",
       "       'Kennesaw, GA (+1 other)', 'Parsippany-Troy Hills, NJ (+1 other)',\n",
       "       'Garden City, NY', 'Dayton, NJ', 'Hartsdale, NY',\n",
       "       'Carteret, NJ (+1 other)', 'Beverly Hills, CA', 'Corona, CA',\n",
       "       'Westlake Village, CA', 'Thousand Oaks, CA, USA', 'Whittier, CA',\n",
       "       'Thousand Oaks, CA', 'Huntington Beach, CA (+1 other)',\n",
       "       'Santa Ana, CA', 'Smyrna, GA', 'Lawrenceville, GA (+1 other)',\n",
       "       'Stockbridge, GA', 'Lilburn, GA (+1 other)',\n",
       "       'Kennesaw, GA, USA (+1 other)', 'Marietta, GA', 'Roswell, GA',\n",
       "       'Austell, GA', 'Scottdale, GA', 'Powder Springs, GA',\n",
       "       'Garden City, NY, USA', 'Monsey, NY, USA', 'Weehawken, NJ',\n",
       "       'Brooklyn, NY, USA', 'Teaneck, NJ, United States (+1 other)',\n",
       "       'New Rochelle, NY (+1 other)', 'Teaneck, NJ (+1 other)',\n",
       "       'Port Washington, NY', 'Red Bank, NJ', 'Hoboken, NJ',\n",
       "       'South Brunswick Township, NJ', 'Gladstone, NJ',\n",
       "       'New Providence, NJ', 'Rochelle Park, NJ',\n",
       "       'El Segundo, CA, United States (+1 other)', 'Newport Beach, CA',\n",
       "       'Harbor City, CA', 'Sandy Springs, GA', 'Georgia', 'Hewlett, NY',\n",
       "       'Oceanside, NY', 'Centerport, NY, USA', 'Thornwood, NY', 'Rye, NY',\n",
       "       'West Babylon, NY, USA', 'New City, NY, USA', 'Copiague, NY, USA',\n",
       "       'Levittown, NY', 'Mill Neck, NY', 'Inwood, NY', 'Commack, NY',\n",
       "       'Manhasset, NY', 'Freeport, NY', 'Buchanan, NY', 'Woodbury, NY',\n",
       "       'Harrison, NY', 'Syosset, NY', 'Elmont, NY', 'Great Neck, NY',\n",
       "       'Blauvelt, NY', 'Jericho, NY', 'Hillburn, NY', 'East Norwich, NY',\n",
       "       'Bellmore, NY', 'Wantagh, NY', 'East Meadow, NY',\n",
       "       'West Hempstead, NY', 'Hempstead, NY', 'Atlantic Beach, NY',\n",
       "       'Roosevelt, NY', 'Larchmont, NY', 'Costa Mesa, CA',\n",
       "       'Alpharetta, GA, United States (+1 other)',\n",
       "       'Jericho, NY (+1 other)', 'North Caldwell, NJ', 'Clark, NJ',\n",
       "       'Florham Park, NJ', 'White Plains, NY (+1 other)', 'Roseland, NJ',\n",
       "       'Englewood Cliffs, NJ', 'Summit, NJ (+1 other)', 'Rahway, NJ',\n",
       "       'Mahwah, NJ', 'Saddle Brook, NJ', 'Manhattan Beach, CA (+1 other)',\n",
       "       'Santa Monica, CA, USA (+1 other)', 'Torrance, CA',\n",
       "       'Los Angeles, CA, USA (+5 others)', 'Los Alamitos, CA, USA',\n",
       "       'Los Alamitos, CA', 'Venice, CA, United States (+1 other)',\n",
       "       'Beverly Hills, CA, USA', 'El Segundo, CA, USA',\n",
       "       'Playa Del Rey, CA', 'Roswell, GA (+1 other)', 'Chamblee, GA'],\n",
       "      dtype=object)"
      ]
     },
     "execution_count": 6,
     "metadata": {},
     "output_type": "execute_result"
    }
   ],
   "source": [
    "data[\"location\"].unique()"
   ]
  },
  {
   "cell_type": "code",
   "execution_count": 7,
   "metadata": {},
   "outputs": [
    {
     "data": {
      "text/plain": [
       "Atlanta, GA                                   1905\n",
       "New York, NY                                  1827\n",
       "Los Angeles, CA                               1403\n",
       "Anywhere                                       692\n",
       "Newark, NJ                                     598\n",
       "New York, NY (+1 other)                        567\n",
       "Atlanta, GA (+1 other)                         340\n",
       "Los Angeles, CA (+1 other)                     245\n",
       "New York, NY, USA                              232\n",
       "Atlanta, GA, USA                               186\n",
       "Los Angeles, CA, USA                           164\n",
       "Newark, NJ, USA                                 99\n",
       "New York, NY, USA (+1 other)                    75\n",
       "Newark, NJ (+1 other)                           72\n",
       "Jersey City, NJ                                 36\n",
       "Atlanta, GA, USA (+1 other)                     25\n",
       "Los Angeles, CA, United States (+1 other)       23\n",
       "New York, NY (+3 others)                        22\n",
       "Playa Vista, CA (+1 other)                      18\n",
       "Brooklyn, NY                                    18\n",
       "New York, NY (+2 others)                        16\n",
       "Los Angeles, CA (+2 others)                     15\n",
       "Santa Monica, CA (+1 other)                     14\n",
       "Culver City, CA                                 13\n",
       "Newark, NJ, USA (+1 other)                      12\n",
       "Santa Monica, CA                                12\n",
       "Atlanta, GA, United States (+1 other)           12\n",
       "Brooklyn, NY (+1 other)                         12\n",
       "El Segundo, CA (+1 other)                       11\n",
       "Alpharetta, GA                                  10\n",
       "Pasadena, CA                                     9\n",
       "Los Angeles, CA, USA (+1 other)                  8\n",
       "El Segundo, CA                                   7\n",
       "Culver City, CA, USA                             7\n",
       "United States                                    6\n",
       "Culver City, CA (+1 other)                       6\n",
       "Venice, CA (+1 other)                            6\n",
       "Irvine, CA                                       6\n",
       " (+1 other)                                      5\n",
       "Santa Monica, CA, USA                            5\n",
       "Atlanta, GA (+4 others)                          5\n",
       "Jersey City, NJ, USA                             5\n",
       "Playa Vista, CA, United States (+1 other)        5\n",
       "Jersey City, NJ (+3 others)                      5\n",
       "Duluth, GA                                       5\n",
       "Lake Success, NY                                 4\n",
       "New York, NY, USA (+3 others)                    4\n",
       "New York, NY, United States (+1 other)           4\n",
       "Burbank, CA                                      4\n",
       "Marina Del Rey, CA                               4\n",
       "Atlanta, GA (+2 others)                          4\n",
       "Pasadena, CA, USA                                4\n",
       "Marina Del Rey, CA (+1 other)                    4\n",
       "Hoboken, NJ                                      3\n",
       "Anaheim, CA (+1 other)                           3\n",
       "West Hollywood, CA (+1 other)                    3\n",
       "Stamford, CT                                     3\n",
       "Santa Ana, CA                                    3\n",
       "Alpharetta, GA (+1 other)                        3\n",
       "North Hills, NY                                  3\n",
       "El Segundo, CA, United States (+1 other)         3\n",
       "Tarrytown, NY                                    3\n",
       "Piscataway, NJ (+1 other)                        3\n",
       "White Plains, NY                                 3\n",
       "Summit, NJ                                       3\n",
       "Queens, NY                                       3\n",
       "Brooklyn, NY, United States (+1 other)           3\n",
       "Hempstead, NY                                    3\n",
       "Uniondale, NY                                    2\n",
       "Jersey City, NJ (+1 other)                       2\n",
       "West Orange, NJ                                  2\n",
       "Pasadena, CA (+1 other)                          2\n",
       "Kennesaw, GA (+1 other)                          2\n",
       "New York, NY, United States                      2\n",
       "Manhattan Beach, CA (+1 other)                   2\n",
       "Jersey City, NJ, USA (+3 others)                 2\n",
       "Irvine, CA (+1 other)                            2\n",
       "Lawrenceville, GA (+1 other)                     2\n",
       "Thousand Oaks, CA                                2\n",
       "Holmdel, NJ (+1 other)                           2\n",
       "Roswell, GA                                      2\n",
       "Irvine, CA, USA                                  2\n",
       "Thousand Oaks, CA, USA                           2\n",
       "Brooklyn, NY (+3 others)                         2\n",
       "East Los Angeles, CA                             2\n",
       "Parsippany-Troy Hills, NJ                        2\n",
       "Manhasset, NY                                    2\n",
       "Westlake Village, CA                             2\n",
       "New York, NY (+4 others)                         2\n",
       "Dayton, NJ                                       2\n",
       "Stockbridge, GA                                  2\n",
       "Anaheim, CA                                      2\n",
       "Santa Monica, CA, United States (+1 other)       2\n",
       "Harbor City, CA                                  2\n",
       "Johns Creek, GA                                  2\n",
       "Levittown, NY                                    2\n",
       "Universal City, CA                               2\n",
       "New York, NY, USA (+5 others)                    2\n",
       "Agoura Hills, CA                                 2\n",
       "Perth Amboy, NJ                                  2\n",
       "Sandy Springs, GA                                2\n",
       "Roseland, NJ                                     2\n",
       "Blauvelt, NY                                     2\n",
       "Inwood, NY                                       2\n",
       "New Brunswick, NJ                                2\n",
       "Garden City, NY                                  2\n",
       "Alpharetta, GA, USA                              2\n",
       "Morristown, NJ                                   2\n",
       "Atlanta, GA, United States                       2\n",
       "Maywood, CA                                      2\n",
       "Irwindale, CA                                    2\n",
       "Marietta, GA                                     2\n",
       "Roswell, GA (+1 other)                           1\n",
       "Yonkers, NY                                      1\n",
       "South Plainfield, NJ (+1 other)                  1\n",
       "Atlantic Beach, NY                               1\n",
       "New City, NY, USA                                1\n",
       "Floral Park, NY                                  1\n",
       "White Plains, NY (+1 other)                      1\n",
       "Thornwood, NY                                    1\n",
       "Jericho, NY                                      1\n",
       "Lilburn, GA (+1 other)                           1\n",
       "Norcross, GA                                     1\n",
       "Marietta, GA (+1 other)                          1\n",
       "Parsippany-Troy Hills, NJ (+1 other)             1\n",
       "Rochelle Park, NJ                                1\n",
       "Arverne, NY                                      1\n",
       "Kennesaw, GA                                     1\n",
       "Wall Township, NJ                                1\n",
       "Tarrytown, NY (+1 other)                         1\n",
       "Melville, NY                                     1\n",
       "Larchmont, NY                                    1\n",
       "Costa Mesa, CA                                   1\n",
       "Torrance, CA                                     1\n",
       "Glendale, CA                                     1\n",
       "California                                       1\n",
       "Weehawken, NJ                                    1\n",
       "Monsey, NY, USA                                  1\n",
       "Queens, NY, USA                                  1\n",
       "Bellmore, NY                                     1\n",
       "Newport Beach, CA                                1\n",
       "Duluth, GA (+1 other)                            1\n",
       "Chamblee, GA                                     1\n",
       "Jersey City, NJ, USA (+1 other)                  1\n",
       "Duluth, GA, USA (+1 other)                       1\n",
       "New York, NY (+5 others)                         1\n",
       "Atlanta, GA, USA (+2 others)                     1\n",
       "Jamaica, NY                                      1\n",
       "Encino, CA (+1 other)                            1\n",
       "Venice, CA, United States (+1 other)             1\n",
       "Wantagh, NY                                      1\n",
       "Garfield, NJ, USA                                1\n",
       "Atlanta, GA (+7 others)                          1\n",
       "Elmont, NY                                       1\n",
       "Powder Springs, GA                               1\n",
       "Ossining, NY                                     1\n",
       "Edison, NJ (+1 other)                            1\n",
       "Duluth, GA, USA                                  1\n",
       "Huntington Beach, CA (+1 other)                  1\n",
       "Scottdale, GA                                    1\n",
       "Englewood Cliffs, NJ, USA                        1\n",
       "Beverly Hills, CA, USA                           1\n",
       "Summit, NJ (+1 other)                            1\n",
       "Florham Park, NJ                                 1\n",
       "Smyrna, GA                                       1\n",
       "Sparkill, NY                                     1\n",
       "West Babylon, NY, USA                            1\n",
       "East Meadow, NY                                  1\n",
       "Commack, NY                                      1\n",
       "Alpharetta, GA, United States (+1 other)         1\n",
       "Georgia                                          1\n",
       "Vernon, CA                                       1\n",
       "Teaneck, NJ, United States (+1 other)            1\n",
       "Kennesaw, GA, United States (+1 other)           1\n",
       "New York, NY, USA (+2 others)                    1\n",
       "New Rochelle, NY (+1 other)                      1\n",
       "Los Angeles, CA (+3 others)                      1\n",
       "Englewood Cliffs, NJ                             1\n",
       "North Caldwell, NJ                               1\n",
       "Atlanta, GA, USA (+4 others)                     1\n",
       "Ridgefield Park, NJ, USA                         1\n",
       "Port Washington, NY                              1\n",
       "Los Alamitos, CA                                 1\n",
       "Copiague, NY, USA                                1\n",
       "Carteret, NJ (+1 other)                          1\n",
       "Freeport, NY                                     1\n",
       "Brooklyn, NY, USA                                1\n",
       "East Norwich, NY                                 1\n",
       "Walnut, CA, USA                                  1\n",
       "Azusa, CA, USA (+1 other)                        1\n",
       "Hewlett, NY                                      1\n",
       "Gladstone, NJ                                    1\n",
       "Madison, NJ                                      1\n",
       "Roosevelt, NY                                    1\n",
       "Centerport, NY, USA                              1\n",
       "New Providence, NJ                               1\n",
       "Buchanan, NY                                     1\n",
       "United States (+1 other)                         1\n",
       "Great Neck, NY                                   1\n",
       "Syosset, NY (+1 other)                           1\n",
       "Morristown, NJ, USA                              1\n",
       "Mahwah, NJ                                       1\n",
       "Atlanta, GA, USA (+7 others)                     1\n",
       "Syosset, NY                                      1\n",
       "Teaneck, NJ (+1 other)                           1\n",
       "South Brunswick Township, NJ                     1\n",
       "Harrison, NY                                     1\n",
       "Jericho, NY (+1 other)                           1\n",
       "Clark, NJ                                        1\n",
       "Mill Neck, NY                                    1\n",
       "Montvale, NJ (+1 other)                          1\n",
       "Playa Del Rey, CA                                1\n",
       "Saddle Brook, NJ                                 1\n",
       "West Hempstead, NY                               1\n",
       "Rye, NY                                          1\n",
       "New City, NY                                     1\n",
       "Rahway, NJ                                       1\n",
       "Secaucus, NJ                                     1\n",
       "Santa Monica, CA, USA (+1 other)                 1\n",
       "South Plainfield, NJ                             1\n",
       "El Segundo, CA, USA                              1\n",
       "Austell, GA                                      1\n",
       "Beverly Hills, CA                                1\n",
       "Los Alamitos, CA, USA                            1\n",
       "Oceanside, NY                                    1\n",
       "Hillburn, NY                                     1\n",
       "Hapeville, GA                                    1\n",
       "Corona, CA                                       1\n",
       "Los Angeles, CA, USA (+5 others)                 1\n",
       "Woodbury, NY                                     1\n",
       "Long Beach, CA (+1 other)                        1\n",
       "Red Bank, NJ                                     1\n",
       "Elizabeth, NJ                                    1\n",
       "White Plains, NY, USA                            1\n",
       "Garden City, NY, USA                             1\n",
       "Peachtree City, GA (+1 other)                    1\n",
       "Hartsdale, NY                                    1\n",
       "Kennesaw, GA, USA (+1 other)                     1\n",
       "Whittier, CA                                     1\n",
       "Name: location, dtype: int64"
      ]
     },
     "execution_count": 7,
     "metadata": {},
     "output_type": "execute_result"
    }
   ],
   "source": [
    "data[\"location\"].value_counts()"
   ]
  },
  {
   "cell_type": "code",
   "execution_count": 13,
   "metadata": {},
   "outputs": [],
   "source": [
    "def change(location):\n",
    "    location = str(location)\n",
    "    if \"GA\" in location:\n",
    "        location = \"Atlanta, GA\"\n",
    "    if \"NY\" in location:\n",
    "        location = \"New York, NY\"\n",
    "    if \"CA\" in location:\n",
    "        location = \"Los Angeles, CA\"\n",
    "    if \"NJ\" in location:\n",
    "        location = \"Newark, NJ\"\n",
    "    if \"United States\" in location:\n",
    "        location = \"Anywhere\"\n",
    "    return location"
   ]
  },
  {
   "cell_type": "markdown",
   "metadata": {},
   "source": [
    ".contains\n",
    "-location.replace(\"(+1 other)\", \"\")"
   ]
  },
  {
   "cell_type": "code",
   "execution_count": 14,
   "metadata": {},
   "outputs": [],
   "source": [
    "data[\"location\"] = data[\"location\"].apply(change)"
   ]
  },
  {
   "cell_type": "code",
   "execution_count": 15,
   "metadata": {},
   "outputs": [
    {
     "data": {
      "text/plain": [
       "array(['New York, NY', 'Anywhere', 'Newark, NJ', 'Los Angeles, CA',\n",
       "       'Atlanta, GA', 'nan', ' (+1 other)', 'California', 'Stamford, CT',\n",
       "       'Georgia'], dtype=object)"
      ]
     },
     "execution_count": 15,
     "metadata": {},
     "output_type": "execute_result"
    }
   ],
   "source": [
    "data[\"location\"].unique()"
   ]
  },
  {
   "cell_type": "code",
   "execution_count": 16,
   "metadata": {},
   "outputs": [
    {
     "data": {
      "text/plain": [
       "New York, NY       2868\n",
       "Atlanta, GA        2535\n",
       "Los Angeles, CA    2057\n",
       "Newark, NJ          887\n",
       "Anywhere            699\n",
       "nan                  41\n",
       " (+1 other)           5\n",
       "Stamford, CT          3\n",
       "Georgia               1\n",
       "California            1\n",
       "Name: location, dtype: int64"
      ]
     },
     "execution_count": 16,
     "metadata": {},
     "output_type": "execute_result"
    }
   ],
   "source": [
    "data[\"location\"].value_counts()"
   ]
  },
  {
   "cell_type": "code",
   "execution_count": 18,
   "metadata": {},
   "outputs": [
    {
     "data": {
      "text/html": [
       "<div>\n",
       "<style scoped>\n",
       "    .dataframe tbody tr th:only-of-type {\n",
       "        vertical-align: middle;\n",
       "    }\n",
       "\n",
       "    .dataframe tbody tr th {\n",
       "        vertical-align: top;\n",
       "    }\n",
       "\n",
       "    .dataframe thead th {\n",
       "        text-align: right;\n",
       "    }\n",
       "</style>\n",
       "<table border=\"1\" class=\"dataframe\">\n",
       "  <thead>\n",
       "    <tr style=\"text-align: right;\">\n",
       "      <th></th>\n",
       "      <th>title</th>\n",
       "      <th>company_name</th>\n",
       "      <th>location</th>\n",
       "      <th>via</th>\n",
       "      <th>description</th>\n",
       "      <th>schedule_type</th>\n",
       "      <th>job_id</th>\n",
       "    </tr>\n",
       "  </thead>\n",
       "  <tbody>\n",
       "    <tr>\n",
       "      <th>0</th>\n",
       "      <td>Software Engineer - All levels</td>\n",
       "      <td>Bubble</td>\n",
       "      <td>New York, NY</td>\n",
       "      <td>via AngelList</td>\n",
       "      <td>For 95% of programming jobs, the primary focus...</td>\n",
       "      <td>Full-time</td>\n",
       "      <td>eyJqb2JfdGl0bGUiOiJTb2Z0d2FyZSBFbmdpbmVlciAtIE...</td>\n",
       "    </tr>\n",
       "    <tr>\n",
       "      <th>1</th>\n",
       "      <td>Software Engineer III</td>\n",
       "      <td>Google</td>\n",
       "      <td>New York, NY</td>\n",
       "      <td>via LinkedIn</td>\n",
       "      <td>Note: By applying to this position you will ha...</td>\n",
       "      <td>Full-time</td>\n",
       "      <td>eyJqb2JfdGl0bGUiOiJTb2Z0d2FyZSBFbmdpbmVlciBJSU...</td>\n",
       "    </tr>\n",
       "  </tbody>\n",
       "</table>\n",
       "</div>"
      ],
      "text/plain": [
       "                            title company_name      location            via  \\\n",
       "0  Software Engineer - All levels       Bubble  New York, NY  via AngelList   \n",
       "1           Software Engineer III       Google  New York, NY   via LinkedIn   \n",
       "\n",
       "                                         description schedule_type  \\\n",
       "0  For 95% of programming jobs, the primary focus...     Full-time   \n",
       "1  Note: By applying to this position you will ha...     Full-time   \n",
       "\n",
       "                                              job_id  \n",
       "0  eyJqb2JfdGl0bGUiOiJTb2Z0d2FyZSBFbmdpbmVlciAtIE...  \n",
       "1  eyJqb2JfdGl0bGUiOiJTb2Z0d2FyZSBFbmdpbmVlciBJSU...  "
      ]
     },
     "execution_count": 18,
     "metadata": {},
     "output_type": "execute_result"
    }
   ],
   "source": [
    "data.head(2)"
   ]
  },
  {
   "cell_type": "code",
   "execution_count": 17,
   "metadata": {},
   "outputs": [
    {
     "data": {
      "text/plain": [
       "location\n",
       " (+1 other)           5\n",
       "Anywhere            699\n",
       "Atlanta, GA        2535\n",
       "California            1\n",
       "Georgia               1\n",
       "Los Angeles, CA    2057\n",
       "New York, NY       2868\n",
       "Newark, NJ          887\n",
       "Stamford, CT          3\n",
       "nan                  41\n",
       "dtype: int64"
      ]
     },
     "execution_count": 17,
     "metadata": {},
     "output_type": "execute_result"
    }
   ],
   "source": [
    "data.groupby([\"location\"]).size()"
   ]
  },
  {
   "cell_type": "code",
   "execution_count": 20,
   "metadata": {},
   "outputs": [],
   "source": [
    "index_names = data[ data['location'] == ' (+1 other)' ].index"
   ]
  },
  {
   "cell_type": "code",
   "execution_count": 21,
   "metadata": {},
   "outputs": [],
   "source": [
    "data.drop(index_names, inplace = True)"
   ]
  },
  {
   "cell_type": "code",
   "execution_count": 22,
   "metadata": {},
   "outputs": [
    {
     "data": {
      "text/plain": [
       "array(['New York, NY', 'Anywhere', 'Newark, NJ', 'Los Angeles, CA',\n",
       "       'Atlanta, GA', 'nan', 'California', 'Stamford, CT', 'Georgia'],\n",
       "      dtype=object)"
      ]
     },
     "execution_count": 22,
     "metadata": {},
     "output_type": "execute_result"
    }
   ],
   "source": [
    "data[\"location\"].unique()"
   ]
  },
  {
   "cell_type": "code",
   "execution_count": 23,
   "metadata": {},
   "outputs": [],
   "source": [
    "index_name1 = data[ data['location'] == 'nan' ].index\n",
    "index_name2 = data[ data['location'] == 'California' ].index\n",
    "index_name3 = data[ data['location'] == 'Stamford, CT' ].index\n",
    "index_name4 = data[ data['location'] == 'Georgia' ].index"
   ]
  },
  {
   "cell_type": "code",
   "execution_count": 25,
   "metadata": {},
   "outputs": [],
   "source": [
    "data.drop(index_name1, inplace = True)\n",
    "data.drop(index_name2, inplace = True)\n",
    "data.drop(index_name3, inplace = True)\n",
    "data.drop(index_name4, inplace = True)"
   ]
  },
  {
   "cell_type": "code",
   "execution_count": 26,
   "metadata": {},
   "outputs": [
    {
     "data": {
      "text/plain": [
       "New York, NY       2868\n",
       "Atlanta, GA        2535\n",
       "Los Angeles, CA    2057\n",
       "Newark, NJ          887\n",
       "Anywhere            699\n",
       "Name: location, dtype: int64"
      ]
     },
     "execution_count": 26,
     "metadata": {},
     "output_type": "execute_result"
    }
   ],
   "source": [
    "data[\"location\"].value_counts()"
   ]
  },
  {
   "cell_type": "code",
   "execution_count": 27,
   "metadata": {},
   "outputs": [
    {
     "data": {
      "text/plain": [
       "<AxesSubplot:xlabel='location'>"
      ]
     },
     "execution_count": 27,
     "metadata": {},
     "output_type": "execute_result"
    },
    {
     "data": {
      "image/png": "[encoded data removed]",
      "text/plain": [
       "<Figure size 432x288 with 1 Axes>"
      ]
     },
     "metadata": {
      "needs_background": "light"
     },
     "output_type": "display_data"
    }
   ],
   "source": [
    "data.groupby([\"location\"]).size().plot.bar()"
   ]
  },
  {
   "cell_type": "code",
   "execution_count": 28,
   "metadata": {},
   "outputs": [],
   "source": [
    "data.to_csv('employment_cleaned_location.csv', encoding='utf-8')"
   ]
  },
  {
   "cell_type": "code",
   "execution_count": null,
   "metadata": {},
   "outputs": [],
   "source": []
  }
 ],
 "metadata": {
  "kernelspec": {
   "display_name": "Python 3",
   "language": "python",
   "name": "python3"
  },
  "language_info": {
   "codemirror_mode": {
    "name": "ipython",
    "version": 3
   },
   "file_extension": ".py",
   "mimetype": "text/x-python",
   "name": "python",
   "nbconvert_exporter": "python",
   "pygments_lexer": "ipython3",
   "version": "3.8.5"
  }
 },
 "nbformat": 4,
 "nbformat_minor": 5
}
